{
  "nbformat": 4,
  "nbformat_minor": 0,
  "metadata": {
    "colab": {
      "name": "4_ML_model_prediction",
      "provenance": [],
      "mount_file_id": "1Ct3fdwSlc46cSb2RIcROiacx5f-3Y8F3",
      "authorship_tag": "ABX9TyPBI+F/H4Dtl3VB9X3m7YbR"
    },
    "kernelspec": {
      "name": "python3",
      "display_name": "Python 3"
    },
    "language_info": {
      "name": "python"
    }
  },
  "cells": [
    {
      "cell_type": "markdown",
      "metadata": {
        "id": "N0NWOvH9r4XX"
      },
      "source": [
        "# Flight Delay Prediction Project\n",
        "\n",
        "## Part 3: ML model to predict the airline delay\n",
        "\n",
        "The objective of our model is to predict the arrival delays. We use the follwoing two subparts to make the prediction work:\n",
        "\n",
        "\n",
        "\n",
        "1.   Delay Classification Model:\n",
        "\n",
        "\n",
        "* Classify [0/1] whether a flight is delayed more than 5 minutes or not\n",
        "* Trained a Logistic Regression model\n",
        "* Averaged predictions over n=100 models\n",
        "* Output probability of delay P(delay)\n",
        "\n",
        "\n",
        "2.   Predicted Delay\n",
        "\n",
        "\n",
        "*   Regression using Linear Regression\n",
        "*   Trained only on positive delay P(delay)\n",
        "\n",
        "\n",
        "\n"
      ]
    },
    {
      "cell_type": "code",
      "metadata": {
        "id": "KKdgtLUDHBuV",
        "colab": {
          "base_uri": "https://localhost:8080/"
        },
        "outputId": "81d985c6-3aec-4ea9-eb4e-d5322d0034ae"
      },
      "source": [
        "import os\n",
        "import pandas as pd\n",
        "import numpy as np\n",
        "import time\n",
        "from sklearn.externals import joblib\n",
        "\n",
        "os.chdir(\"/content/drive/MyDrive/Projects/Flight_Delay_Predict_Project/CodeFiles\") #Default Project directory\n"
      ],
      "execution_count": null,
      "outputs": [
        {
          "output_type": "stream",
          "text": [
            "/usr/local/lib/python3.7/dist-packages/sklearn/externals/joblib/__init__.py:15: FutureWarning: sklearn.externals.joblib is deprecated in 0.21 and will be removed in 0.23. Please import this functionality directly from joblib, which can be installed with: pip install joblib. If this warning is raised when loading pickled models, you may need to re-serialize those models with scikit-learn 0.21+.\n",
            "  warnings.warn(msg, category=FutureWarning)\n"
          ],
          "name": "stderr"
        }
      ]
    },
    {
      "cell_type": "code",
      "metadata": {
        "colab": {
          "base_uri": "https://localhost:8080/"
        },
        "id": "ieDp4SghHGTo",
        "outputId": "417fbf90-af1a-4e2b-919c-c07e7df016f7"
      },
      "source": [
        "tic = time.time()\n",
        "\n",
        "#PREPARE DF FOR REGRESSION WITH CLIMATE\n",
        "df = pd.read_csv('Airline+Weather_data.csv')\n",
        "\n",
        "toc = time.time()\n",
        "print(\"Finished reading CSV file in \" + str(toc-tic) + \" seconds\")"
      ],
      "execution_count": null,
      "outputs": [
        {
          "output_type": "stream",
          "text": [
            "Finished reading CSV file in 3.658984422683716 seconds\n"
          ],
          "name": "stdout"
        }
      ]
    },
    {
      "cell_type": "code",
      "metadata": {
        "colab": {
          "base_uri": "https://localhost:8080/"
        },
        "id": "MOqXUl9JHIGM",
        "outputId": "95617a3d-db09-4d8d-c18e-cae6c7ba35aa"
      },
      "source": [
        "#Prepare the data\n",
        "tic = time.time()\n",
        "\n",
        "#Drop Variables which do not have correlation with arrival delays/cannot be predicted until the flight\n",
        "df.drop(['YEAR','DAY_OF_MONTH','CRS_DEP_TIME','DEP_TIME','DEP_DELAY','CRS_ARR_TIME','ARR_TIME','ACTUAL_ELAPSED_TIME','AIR_TIME','DEP_AVG_HourlyVisibility','DEP_AVG_HourlyDryBulbTemperature','DEP_AVG_HourlyWindSpeed','DEP_AVG_HourlyPrecipitation','ARR_AVG_HourlyVisibility','ARR_AVG_HourlyDryBulbTemperature','ARR_AVG_HourlyWindSpeed','ARR_AVG_HourlyPrecipitation'],axis=1, inplace=True)\n",
        "#Remove data redundancy\n",
        "df['ARR_HOUR'] = df['ARR_HOUR'].apply(lambda x:0 if x == 24 else x)\n",
        "#Drop rows with Null Values\n",
        "df.dropna(inplace=True)\n",
        "\n",
        "#Convert to Dummy Variables\n",
        "df = pd.concat([df,pd.get_dummies(df['MONTH'],drop_first=True,prefix=\"MONTH\")],axis=1)\n",
        "df = pd.concat([df,pd.get_dummies(df['DAY_OF_WEEK'],drop_first=True,prefix=\"DAY_OF_WEEK\")],axis=1)\n",
        "df = pd.concat([df,pd.get_dummies(df['OP_CARRIER'],drop_first=True,prefix=\"OP_CARRIER\")],axis=1)\n",
        "df = pd.concat([df,pd.get_dummies(df['ORIGIN'],drop_first=True,prefix=\"ORIGIN\")],axis=1)\n",
        "df = pd.concat([df,pd.get_dummies(df['DEST'],drop_first=True,prefix=\"DEST\")],axis=1)\n",
        "df = pd.concat([df,pd.get_dummies(df['DEP_HOUR'],drop_first=True,prefix=\"DEP_HOUR\")],axis=1)\n",
        "df = pd.concat([df,pd.get_dummies(df['ARR_HOUR'],drop_first=True,prefix=\"ARR_HOUR\")],axis=1)\n",
        "\n",
        "df.drop(['MONTH','DAY_OF_WEEK','OP_CARRIER','ORIGIN','DEST','DEP_HOUR','ARR_HOUR'],axis=1,inplace=True)\n",
        "#DELAY_YN -> Delay Yes or No -> 1 if Delay>5 minutes, else 0\n",
        "df['DELAY_YN'] = df['ARR_DELAY'].apply(lambda x:1 if x>=5 else 0)\n",
        "\n",
        "toc = time.time()\n",
        "print(\"Finished preparing data in \" + str(toc-tic) + \" seconds\")"
      ],
      "execution_count": null,
      "outputs": [
        {
          "output_type": "stream",
          "text": [
            "Finished preparing data in 1.9548366069793701 seconds\n"
          ],
          "name": "stdout"
        }
      ]
    },
    {
      "cell_type": "code",
      "metadata": {
        "colab": {
          "base_uri": "https://localhost:8080/"
        },
        "id": "O-smYwQsHKQ9",
        "outputId": "57e4757d-502d-4de7-d6c0-27c7250fef79"
      },
      "source": [
        "#Create 'n' different Logistic Regression Models\n",
        "\n",
        "from sklearn.model_selection import train_test_split\n",
        "from sklearn.linear_model import LogisticRegression\n",
        "\n",
        "n = 10 #Number of models to average over\n",
        "\n",
        "for i in range(n):\n",
        "    \n",
        "    tic = time.time()\n",
        "    #Create a randomly selected smaller dataset for training purpose\n",
        "    #Each dataset should have negative and positive classes in the ratio 60:40\n",
        "    df_split = df.loc[np.random.choice(df[df['DELAY_YN']==1].index, 400000, replace = True)]\n",
        "    df_split2 = df.loc[np.random.choice(df[df['DELAY_YN']==0].index, 600000, replace = True)]\n",
        "    df_split = df_split.append(df_split2, ignore_index=True)\n",
        "\n",
        "    X_train, X_test, y_train, y_test = train_test_split(df_split.drop(['DELAY_YN','ARR_DELAY'],axis=1),\n",
        "                                                    df_split['DELAY_YN'], test_size=0.10, random_state=101)\n",
        "\n",
        "    logmodel = LogisticRegression()\n",
        "    logmodel.fit(X_train,y_train)\n",
        "    \n",
        "    predictions = logmodel.predict(X_test)\n",
        "\n",
        "    truePos = X_test[((predictions == 1) & (y_test == predictions))]\n",
        "    falsePos = X_test[((predictions == 1) & (y_test != predictions))]\n",
        "    trueNeg = X_test[((predictions == 0) & (y_test == predictions))]\n",
        "    falseNeg = X_test[((predictions == 0) & (y_test != predictions))]\n",
        "\n",
        "    TP = truePos.shape[0]\n",
        "    FP = falsePos.shape[0]\n",
        "    TN = trueNeg.shape[0]\n",
        "    FN = falseNeg.shape[0]\n",
        "\n",
        "    accuracy = float(TP + TN)/float(TP + TN + FP + FN)\n",
        "    print('Accuracy: '+str(accuracy))\n",
        "    \n",
        "    joblib.dump(logmodel, str(i)+'_logmodel.pkl') \n",
        "    \n",
        "    toc = time.time()\n",
        "    print(str(i+1)+\"th fold took \" + str(toc-tic) + \" seconds\")"
      ],
      "execution_count": null,
      "outputs": [
        {
          "output_type": "stream",
          "text": [
            "/usr/local/lib/python3.7/dist-packages/sklearn/linear_model/_logistic.py:940: ConvergenceWarning: lbfgs failed to converge (status=1):\n",
            "STOP: TOTAL NO. of ITERATIONS REACHED LIMIT.\n",
            "\n",
            "Increase the number of iterations (max_iter) or scale the data as shown in:\n",
            "    https://scikit-learn.org/stable/modules/preprocessing.html\n",
            "Please also refer to the documentation for alternative solver options:\n",
            "    https://scikit-learn.org/stable/modules/linear_model.html#logistic-regression\n",
            "  extra_warning_msg=_LOGISTIC_SOLVER_CONVERGENCE_MSG)\n"
          ],
          "name": "stderr"
        },
        {
          "output_type": "stream",
          "text": [
            "Accuracy: 0.62736\n",
            "1th fold took 54.839728355407715 seconds\n"
          ],
          "name": "stdout"
        },
        {
          "output_type": "stream",
          "text": [
            "/usr/local/lib/python3.7/dist-packages/sklearn/linear_model/_logistic.py:940: ConvergenceWarning: lbfgs failed to converge (status=1):\n",
            "STOP: TOTAL NO. of ITERATIONS REACHED LIMIT.\n",
            "\n",
            "Increase the number of iterations (max_iter) or scale the data as shown in:\n",
            "    https://scikit-learn.org/stable/modules/preprocessing.html\n",
            "Please also refer to the documentation for alternative solver options:\n",
            "    https://scikit-learn.org/stable/modules/linear_model.html#logistic-regression\n",
            "  extra_warning_msg=_LOGISTIC_SOLVER_CONVERGENCE_MSG)\n"
          ],
          "name": "stderr"
        },
        {
          "output_type": "stream",
          "text": [
            "Accuracy: 0.62828\n",
            "2th fold took 53.38365173339844 seconds\n"
          ],
          "name": "stdout"
        },
        {
          "output_type": "stream",
          "text": [
            "/usr/local/lib/python3.7/dist-packages/sklearn/linear_model/_logistic.py:940: ConvergenceWarning: lbfgs failed to converge (status=1):\n",
            "STOP: TOTAL NO. of ITERATIONS REACHED LIMIT.\n",
            "\n",
            "Increase the number of iterations (max_iter) or scale the data as shown in:\n",
            "    https://scikit-learn.org/stable/modules/preprocessing.html\n",
            "Please also refer to the documentation for alternative solver options:\n",
            "    https://scikit-learn.org/stable/modules/linear_model.html#logistic-regression\n",
            "  extra_warning_msg=_LOGISTIC_SOLVER_CONVERGENCE_MSG)\n"
          ],
          "name": "stderr"
        },
        {
          "output_type": "stream",
          "text": [
            "Accuracy: 0.62585\n",
            "3th fold took 53.70569324493408 seconds\n"
          ],
          "name": "stdout"
        },
        {
          "output_type": "stream",
          "text": [
            "/usr/local/lib/python3.7/dist-packages/sklearn/linear_model/_logistic.py:940: ConvergenceWarning: lbfgs failed to converge (status=1):\n",
            "STOP: TOTAL NO. of ITERATIONS REACHED LIMIT.\n",
            "\n",
            "Increase the number of iterations (max_iter) or scale the data as shown in:\n",
            "    https://scikit-learn.org/stable/modules/preprocessing.html\n",
            "Please also refer to the documentation for alternative solver options:\n",
            "    https://scikit-learn.org/stable/modules/linear_model.html#logistic-regression\n",
            "  extra_warning_msg=_LOGISTIC_SOLVER_CONVERGENCE_MSG)\n"
          ],
          "name": "stderr"
        },
        {
          "output_type": "stream",
          "text": [
            "Accuracy: 0.62589\n",
            "4th fold took 51.71776032447815 seconds\n"
          ],
          "name": "stdout"
        },
        {
          "output_type": "stream",
          "text": [
            "/usr/local/lib/python3.7/dist-packages/sklearn/linear_model/_logistic.py:940: ConvergenceWarning: lbfgs failed to converge (status=1):\n",
            "STOP: TOTAL NO. of ITERATIONS REACHED LIMIT.\n",
            "\n",
            "Increase the number of iterations (max_iter) or scale the data as shown in:\n",
            "    https://scikit-learn.org/stable/modules/preprocessing.html\n",
            "Please also refer to the documentation for alternative solver options:\n",
            "    https://scikit-learn.org/stable/modules/linear_model.html#logistic-regression\n",
            "  extra_warning_msg=_LOGISTIC_SOLVER_CONVERGENCE_MSG)\n"
          ],
          "name": "stderr"
        },
        {
          "output_type": "stream",
          "text": [
            "Accuracy: 0.62699\n",
            "5th fold took 53.64481592178345 seconds\n"
          ],
          "name": "stdout"
        },
        {
          "output_type": "stream",
          "text": [
            "/usr/local/lib/python3.7/dist-packages/sklearn/linear_model/_logistic.py:940: ConvergenceWarning: lbfgs failed to converge (status=1):\n",
            "STOP: TOTAL NO. of ITERATIONS REACHED LIMIT.\n",
            "\n",
            "Increase the number of iterations (max_iter) or scale the data as shown in:\n",
            "    https://scikit-learn.org/stable/modules/preprocessing.html\n",
            "Please also refer to the documentation for alternative solver options:\n",
            "    https://scikit-learn.org/stable/modules/linear_model.html#logistic-regression\n",
            "  extra_warning_msg=_LOGISTIC_SOLVER_CONVERGENCE_MSG)\n"
          ],
          "name": "stderr"
        },
        {
          "output_type": "stream",
          "text": [
            "Accuracy: 0.6261\n",
            "6th fold took 54.96917104721069 seconds\n"
          ],
          "name": "stdout"
        },
        {
          "output_type": "stream",
          "text": [
            "/usr/local/lib/python3.7/dist-packages/sklearn/linear_model/_logistic.py:940: ConvergenceWarning: lbfgs failed to converge (status=1):\n",
            "STOP: TOTAL NO. of ITERATIONS REACHED LIMIT.\n",
            "\n",
            "Increase the number of iterations (max_iter) or scale the data as shown in:\n",
            "    https://scikit-learn.org/stable/modules/preprocessing.html\n",
            "Please also refer to the documentation for alternative solver options:\n",
            "    https://scikit-learn.org/stable/modules/linear_model.html#logistic-regression\n",
            "  extra_warning_msg=_LOGISTIC_SOLVER_CONVERGENCE_MSG)\n"
          ],
          "name": "stderr"
        },
        {
          "output_type": "stream",
          "text": [
            "Accuracy: 0.62618\n",
            "7th fold took 53.41668152809143 seconds\n"
          ],
          "name": "stdout"
        },
        {
          "output_type": "stream",
          "text": [
            "/usr/local/lib/python3.7/dist-packages/sklearn/linear_model/_logistic.py:940: ConvergenceWarning: lbfgs failed to converge (status=1):\n",
            "STOP: TOTAL NO. of ITERATIONS REACHED LIMIT.\n",
            "\n",
            "Increase the number of iterations (max_iter) or scale the data as shown in:\n",
            "    https://scikit-learn.org/stable/modules/preprocessing.html\n",
            "Please also refer to the documentation for alternative solver options:\n",
            "    https://scikit-learn.org/stable/modules/linear_model.html#logistic-regression\n",
            "  extra_warning_msg=_LOGISTIC_SOLVER_CONVERGENCE_MSG)\n"
          ],
          "name": "stderr"
        },
        {
          "output_type": "stream",
          "text": [
            "Accuracy: 0.62753\n",
            "8th fold took 53.66283988952637 seconds\n"
          ],
          "name": "stdout"
        },
        {
          "output_type": "stream",
          "text": [
            "/usr/local/lib/python3.7/dist-packages/sklearn/linear_model/_logistic.py:940: ConvergenceWarning: lbfgs failed to converge (status=1):\n",
            "STOP: TOTAL NO. of ITERATIONS REACHED LIMIT.\n",
            "\n",
            "Increase the number of iterations (max_iter) or scale the data as shown in:\n",
            "    https://scikit-learn.org/stable/modules/preprocessing.html\n",
            "Please also refer to the documentation for alternative solver options:\n",
            "    https://scikit-learn.org/stable/modules/linear_model.html#logistic-regression\n",
            "  extra_warning_msg=_LOGISTIC_SOLVER_CONVERGENCE_MSG)\n"
          ],
          "name": "stderr"
        },
        {
          "output_type": "stream",
          "text": [
            "Accuracy: 0.62706\n",
            "9th fold took 57.27164030075073 seconds\n"
          ],
          "name": "stdout"
        },
        {
          "output_type": "stream",
          "text": [
            "/usr/local/lib/python3.7/dist-packages/sklearn/linear_model/_logistic.py:940: ConvergenceWarning: lbfgs failed to converge (status=1):\n",
            "STOP: TOTAL NO. of ITERATIONS REACHED LIMIT.\n",
            "\n",
            "Increase the number of iterations (max_iter) or scale the data as shown in:\n",
            "    https://scikit-learn.org/stable/modules/preprocessing.html\n",
            "Please also refer to the documentation for alternative solver options:\n",
            "    https://scikit-learn.org/stable/modules/linear_model.html#logistic-regression\n",
            "  extra_warning_msg=_LOGISTIC_SOLVER_CONVERGENCE_MSG)\n"
          ],
          "name": "stderr"
        },
        {
          "output_type": "stream",
          "text": [
            "Accuracy: 0.62469\n",
            "10th fold took 51.73858046531677 seconds\n"
          ],
          "name": "stdout"
        }
      ]
    },
    {
      "cell_type": "code",
      "metadata": {
        "colab": {
          "base_uri": "https://localhost:8080/"
        },
        "id": "T72IJMJlHOBL",
        "outputId": "5afc5db8-a837-48d5-9b55-f213c23a307f"
      },
      "source": [
        "#Test the Model performance (on Training data only)\n",
        "df2 = df.loc[np.random.choice(df.index, 1000000, replace = True)]\n",
        "X_test = df2.drop(['ARR_DELAY','DELAY_YN'],axis=1)\n",
        "y_test = df2['DELAY_YN']\n",
        "\n",
        "n = 10 #Number of models to average over\n",
        "df2['DELAY_YN'] = np.zeros(len(df2.index))\n",
        "\n",
        "for i in range(n):\n",
        "    logmodel = joblib.load(str(i)+'_logmodel.pkl') \n",
        "    predictions = logmodel.predict(X_test)\n",
        "    \n",
        "    df2['DELAY_YN'] = df2['DELAY_YN'] + logmodel.predict_proba(X_test)[:,1]\n",
        "    \n",
        "    truePos = X_test[((predictions == 1) & (y_test == predictions))]\n",
        "    falsePos = X_test[((predictions == 1) & (y_test != predictions))]\n",
        "    trueNeg = X_test[((predictions == 0) & (y_test == predictions))]\n",
        "    falseNeg = X_test[((predictions == 0) & (y_test != predictions))]\n",
        "\n",
        "    TP = truePos.shape[0]\n",
        "    FP = falsePos.shape[0]\n",
        "    TN = trueNeg.shape[0]\n",
        "    FN = falseNeg.shape[0]\n",
        "\n",
        "    accuracy = float(TP + TN)/float(TP + TN + FP + FN)\n",
        "    print('Accuracy: '+str(accuracy))\n"
      ],
      "execution_count": null,
      "outputs": [
        {
          "output_type": "stream",
          "text": [
            "Accuracy: 0.773554\n",
            "Accuracy: 0.776456\n",
            "Accuracy: 0.771744\n",
            "Accuracy: 0.774679\n",
            "Accuracy: 0.77745\n",
            "Accuracy: 0.777271\n",
            "Accuracy: 0.776318\n",
            "Accuracy: 0.776062\n",
            "Accuracy: 0.775448\n",
            "Accuracy: 0.778734\n"
          ],
          "name": "stdout"
        }
      ]
    },
    {
      "cell_type": "code",
      "metadata": {
        "colab": {
          "base_uri": "https://localhost:8080/"
        },
        "id": "F6dRjvxUHQUR",
        "outputId": "4ce497cb-6e0a-469f-e41f-8c53072051e9"
      },
      "source": [
        "#Take Average of probabilities for positive class (DELAY_YN = 1). If average probability>0.5, assign value=1\n",
        "df2['DELAY_YN_vote'] = df2['DELAY_YN']/n\n",
        "df2['DELAY_YN_vote'] = df2['DELAY_YN_vote'].apply(lambda x:1 if x>0.46 else 0) #Take Vote\n",
        "\n",
        "truePos = X_test[((df2['DELAY_YN_vote'] == 1) & (y_test == df2['DELAY_YN_vote']))]\n",
        "falsePos = X_test[((df2['DELAY_YN_vote'] == 1) & (y_test != df2['DELAY_YN_vote']))]\n",
        "trueNeg = X_test[((df2['DELAY_YN_vote'] == 0) & (y_test == df2['DELAY_YN_vote']))]\n",
        "falseNeg = X_test[((df2['DELAY_YN_vote'] == 0) & (y_test != df2['DELAY_YN_vote']))]\n",
        "\n",
        "TP = truePos.shape[0]\n",
        "FP = falsePos.shape[0]\n",
        "TN = trueNeg.shape[0]\n",
        "FN = falseNeg.shape[0]\n",
        "\n",
        "accuracy = float(TP + TN)/float(TP + TN + FP + FN)\n",
        "print('Final Accuracy: '+str(accuracy))\n",
        "print('TP: '+str(TP))\n",
        "print('FP: '+str(FP))\n",
        "print('TN: '+str(TN))\n",
        "print('FN: '+str(FN))\n",
        "print('% of positive predictions:')\n",
        "print(len(df2[df2['DELAY_YN_vote']==1].index)/len(df2.index))"
      ],
      "execution_count": null,
      "outputs": [
        {
          "output_type": "stream",
          "text": [
            "Final Accuracy: 0.734007\n",
            "TP: 57561\n",
            "FP: 132208\n",
            "TN: 676446\n",
            "FN: 133785\n",
            "% of positive predictions:\n",
            "0.189769\n"
          ],
          "name": "stdout"
        }
      ]
    },
    {
      "cell_type": "code",
      "metadata": {
        "colab": {
          "base_uri": "https://localhost:8080/"
        },
        "id": "m7kLZgS2HTVq",
        "outputId": "a29dbc37-2437-4c84-a21b-da01748e70c7"
      },
      "source": [
        "#Linear Regression on whole dataset\n",
        "df_late = df[df['DELAY_YN']==1].copy()\n",
        "df_late['log_delay'] = np.log(df_late['ARR_DELAY'])\n",
        "\n",
        "print('Total positive delay datapoints:' + str(len(df_late.index)))"
      ],
      "execution_count": null,
      "outputs": [
        {
          "output_type": "stream",
          "text": [
            "Total positive delay datapoints:104712\n"
          ],
          "name": "stdout"
        }
      ]
    },
    {
      "cell_type": "code",
      "metadata": {
        "colab": {
          "base_uri": "https://localhost:8080/"
        },
        "id": "8Ap3FVhlHVR_",
        "outputId": "aa43dcda-bc38-4191-c9fd-8e1598aecc16"
      },
      "source": [
        "#Modeling ARR_DELAY\n",
        "tic = time.time()\n",
        "\n",
        "from sklearn.model_selection import train_test_split\n",
        "X_train, X_test, y_train, y_test = train_test_split(df_late.drop(['DELAY_YN','log_delay'],axis=1), \n",
        "                                                    df_late['log_delay'], test_size=0.30, random_state=101)\n",
        "\n",
        "print('Training...')\n",
        "from sklearn.linear_model import LinearRegression\n",
        "lm = LinearRegression(normalize=True)\n",
        "lm.fit(X_train.drop('ARR_DELAY',axis=1),y_train)\n",
        "\n",
        "print('Predicting on test set...')\n",
        "predictions = lm.predict(X_test.drop('ARR_DELAY',axis=1))\n",
        "\n",
        "X_test['predicted']=[np.exp(p) for p in predictions]\n",
        "\n",
        "from sklearn import metrics\n",
        "print('MAE:', metrics.mean_absolute_error(X_test['ARR_DELAY'],X_test['predicted']))\n",
        "print('MSE:', metrics.mean_squared_error(X_test['ARR_DELAY'],X_test['predicted']))\n",
        "print('RMSE:', np.sqrt(metrics.mean_squared_error(X_test['ARR_DELAY'],X_test['predicted'])))\n",
        "\n",
        "joblib.dump(lm, 'linearmodel.pkl')\n",
        "\n",
        "toc = time.time()\n",
        "print(\"Finished fitting Linear Regression in \" + str(toc-tic) + \" seconds\")"
      ],
      "execution_count": null,
      "outputs": [
        {
          "output_type": "stream",
          "text": [
            "Training...\n",
            "Predicting on test set...\n",
            "MAE: 23.57304396241335\n",
            "MSE: 4970.094951207509\n",
            "RMSE: 70.4989003545978\n",
            "Finished fitting Linear Regression in 1.4992551803588867 seconds\n"
          ],
          "name": "stdout"
        }
      ]
    }
  ]
}