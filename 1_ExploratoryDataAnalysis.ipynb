{
  "nbformat": 4,
  "nbformat_minor": 0,
  "metadata": {
    "colab": {
      "name": "1_ExploratoryDataAnalysis.ipynb",
      "provenance": [],
      "collapsed_sections": [],
      "mount_file_id": "1g1Xmjxd3n7Qn5gVqqKM_JUGX60TosSL3",
      "authorship_tag": "ABX9TyM4DEwt2MLS556w2HGKPjQG"
    },
    "kernelspec": {
      "name": "python3",
      "display_name": "Python 3"
    },
    "language_info": {
      "name": "python"
    }
  },
  "cells": [
    {
      "cell_type": "markdown",
      "metadata": {
        "id": "jMJs1ax5HhI0"
      },
      "source": [
        "\n",
        "# Flight Delay Prediction Project\n",
        "\n",
        "\n",
        "## Part 1 : Preparing the Data for Analysis\n",
        "\n",
        "In this part, we will import all the files, load entire dataset and clean the data and create data visualizations.\n",
        "\n",
        "In this project, I have used last 4 months of data from the [Bureau of Transportation Statistics](https://www.bts.gov/) to find out which airlines cause delays on given a particular route, at a particular time.\n",
        "The weather data used in later parts of this project is obtained from [National Centers for Environmental Information](https://www.ncdc.noaa.gov) for the same time frame for top 50 Airports.\n",
        "\n",
        "Last 4 months: 2020: Nov - Dec & 2021: Jan-Feb\n",
        "\n"
      ]
    },
    {
      "cell_type": "code",
      "metadata": {
        "id": "-X5haie0HZJ2"
      },
      "source": [
        "# Libraries and Packages\n",
        "import os\n",
        "import pandas as pd\n",
        "import numpy as np\n",
        "from os import walk\n",
        "import time\n",
        "import matplotlib.pyplot as plt\n",
        "import seaborn as sns\n",
        "%matplotlib inline\n",
        "sns.set_style('whitegrid')"
      ],
      "execution_count": null,
      "outputs": []
    },
    {
      "cell_type": "code",
      "metadata": {
        "colab": {
          "base_uri": "https://localhost:8080/"
        },
        "id": "EtKf9a8JIZgN",
        "outputId": "e62b6813-e052-4944-d276-c12b4b58f941"
      },
      "source": [
        "# Keeping a tab on time required for accessing the data.\n",
        "tic = time.time()\n",
        "\n",
        "os.chdir(\"/content/drive/MyDrive/Projects/Flight_Delay_Predict_Project\") #Default Project directory\n",
        "\n",
        "#Read all the airline data files present in the folder 'data'\n",
        "df = pd.DataFrame()\n",
        "\n",
        "f = []\n",
        "for (dirpath,dirnames,filenames) in walk('data/flight/'):\n",
        "    f.extend(filenames)\n",
        "    break\n",
        "    \n",
        "for file in f[1:]:\n",
        "    df = df.append(pd.read_csv('data/flight/'+file))\n",
        "    \n",
        "toc = time.time()\n",
        "print(toc-tic)"
      ],
      "execution_count": null,
      "outputs": [
        {
          "output_type": "stream",
          "text": [
            "6.891077995300293\n"
          ],
          "name": "stdout"
        }
      ]
    },
    {
      "cell_type": "markdown",
      "metadata": {
        "id": "3Pt5z18dQvWO"
      },
      "source": [
        "##Cleaning up the Data\n",
        "\n",
        "\n",
        "*   Remove the columns which are not relevant in predicting the delays.\n",
        "*   Drop rows that have no values or NaNs in the 'OP_CARRIER','ORIGIN','DEST','CRS_DEP_TIME','CRS_ARR_TIME','ARR_DELAY','CRS_ELAPSED_TIME','DISTANCE' fields. \n",
        "\n"
      ]
    },
    {
      "cell_type": "code",
      "metadata": {
        "id": "fOGv7SHbfvFc"
      },
      "source": [
        "#Remove columns which are not used in analysis\n",
        "df.drop(['ORIGIN_STATE_ABR','ORIGIN_AIRPORT_ID','DEST_AIRPORT_ID','DEST_STATE_ABR'],axis=1,inplace=True)\n",
        "\n",
        "#Delete the categorized delay variables because less than 10% records have these data. Rest are NaNs\n",
        "df.drop(['Unnamed: 27','CARRIER_DELAY','WEATHER_DELAY','NAS_DELAY','SECURITY_DELAY','LATE_AIRCRAFT_DELAY'],axis=1,inplace=True)"
      ],
      "execution_count": null,
      "outputs": []
    },
    {
      "cell_type": "code",
      "metadata": {
        "colab": {
          "base_uri": "https://localhost:8080/"
        },
        "id": "rns501wwm4Tu",
        "outputId": "c0a2a10f-4714-4e06-b71f-b9dd07c31fe8"
      },
      "source": [
        "#Drop rows with missing data in the important columns, i.e. the predictors for flight delay\n",
        "total_data_rows = len(df.index)\n",
        "#Drop NaNs\n",
        "df.dropna(subset = ['OP_CARRIER','ORIGIN','DEST','CRS_DEP_TIME','CRS_ARR_TIME','ARR_DELAY','CRS_ELAPSED_TIME','DISTANCE'],inplace=True)\n",
        "data_retained = len(df.index)/total_data_rows\n",
        "print('Data Retained: '+str(round(data_retained*100,2))+' %')"
      ],
      "execution_count": null,
      "outputs": [
        {
          "output_type": "stream",
          "text": [
            "Data Retained: 97.56 %\n"
          ],
          "name": "stdout"
        }
      ]
    },
    {
      "cell_type": "markdown",
      "metadata": {
        "id": "Eq4bZ_8TRgwW"
      },
      "source": [
        "## Prepare the data\n",
        "\n",
        "\n",
        "*   Change the Arrival and Departure timestamps to nearest rounded hour and not the actual time in minutes.\n",
        "\n"
      ]
    },
    {
      "cell_type": "code",
      "metadata": {
        "id": "fewqxc8gnD0a"
      },
      "source": [
        "#Get the Departure and Arrival Hours\n",
        "#For DEP_HOUR, take the CRS_DEP_TIME\n",
        "df['DEP_HOUR'] = df['CRS_DEP_TIME'].apply(lambda x:int(str(x)[:2]) if x>999 else int(str(x)[:1] if x>99 else 0))\n",
        "#For ARR_HOUR, take the actual arrival time\n",
        "df['ARR_HOUR'] = df['ARR_TIME'].apply(lambda x:int(str(x)[:2]) if x>999 else int(str(x)[:1] if x>99 else 0))\n",
        "df['ARR_HOUR'] = df['ARR_HOUR'].apply(lambda x:0 if x==24 else x)"
      ],
      "execution_count": null,
      "outputs": []
    },
    {
      "cell_type": "code",
      "metadata": {
        "colab": {
          "base_uri": "https://localhost:8080/"
        },
        "id": "aU2L7-OYnF6r",
        "outputId": "4c33c07c-558c-4c3b-e19a-a5a05da11aa6"
      },
      "source": [
        "#Save the Dataframe as .csv file\n",
        "tic = time.time()\n",
        "df.to_csv('CodeFiles/Full_airline_data.csv',index=False)\n",
        "toc = time.time()\n",
        "print(toc-tic)"
      ],
      "execution_count": null,
      "outputs": [
        {
          "output_type": "stream",
          "text": [
            "11.031009435653687\n"
          ],
          "name": "stdout"
        }
      ]
    },
    {
      "cell_type": "markdown",
      "metadata": {
        "id": "GBMNrQ44STIZ"
      },
      "source": [
        "## Initial Data Exploration"
      ]
    },
    {
      "cell_type": "code",
      "metadata": {
        "colab": {
          "base_uri": "https://localhost:8080/"
        },
        "id": "n3Uy22fCoVHr",
        "outputId": "8920298e-d8ff-494c-9edb-763e8ba301f7"
      },
      "source": [
        "#Total number of flights in our dataset:\n",
        "len(df.index)"
      ],
      "execution_count": null,
      "outputs": [
        {
          "output_type": "execute_result",
          "data": {
            "text/plain": [
              "1042127"
            ]
          },
          "metadata": {
            "tags": []
          },
          "execution_count": 97
        }
      ]
    },
    {
      "cell_type": "code",
      "metadata": {
        "colab": {
          "base_uri": "https://localhost:8080/"
        },
        "id": "QPMI_i1dtUyL",
        "outputId": "d5c815d4-5c8e-41fb-a670-63efe205c68e"
      },
      "source": [
        "#Average number of flights per day from 2020 November to 2021 February:\n",
        "len((df[df['YEAR']==2020].index)+(df[df['YEAR']==2020].index))/120"
      ],
      "execution_count": null,
      "outputs": [
        {
          "output_type": "execute_result",
          "data": {
            "text/plain": [
              "6072.825"
            ]
          },
          "metadata": {
            "tags": []
          },
          "execution_count": 98
        }
      ]
    },
    {
      "cell_type": "code",
      "metadata": {
        "colab": {
          "base_uri": "https://localhost:8080/"
        },
        "id": "NKe8M9KGuEjs",
        "outputId": "6aa4cf08-ecf4-4f11-d8dd-8ff815bd93cc"
      },
      "source": [
        "#Percent of flights with delays greater than 15 minutes:\n",
        "len(df[df['ARR_DELAY']>15].index)/len(df.index)"
      ],
      "execution_count": null,
      "outputs": [
        {
          "output_type": "execute_result",
          "data": {
            "text/plain": [
              "0.10653883835655348"
            ]
          },
          "metadata": {
            "tags": []
          },
          "execution_count": 99
        }
      ]
    },
    {
      "cell_type": "code",
      "metadata": {
        "colab": {
          "base_uri": "https://localhost:8080/",
          "height": 224
        },
        "id": "1mccMOVnuOTX",
        "outputId": "53445aab-9c0f-4942-b22b-a5d6d1947349"
      },
      "source": [
        "#Head of the data:\n",
        "df.head()"
      ],
      "execution_count": null,
      "outputs": [
        {
          "output_type": "execute_result",
          "data": {
            "text/html": [
              "<div>\n",
              "<style scoped>\n",
              "    .dataframe tbody tr th:only-of-type {\n",
              "        vertical-align: middle;\n",
              "    }\n",
              "\n",
              "    .dataframe tbody tr th {\n",
              "        vertical-align: top;\n",
              "    }\n",
              "\n",
              "    .dataframe thead th {\n",
              "        text-align: right;\n",
              "    }\n",
              "</style>\n",
              "<table border=\"1\" class=\"dataframe\">\n",
              "  <thead>\n",
              "    <tr style=\"text-align: right;\">\n",
              "      <th></th>\n",
              "      <th>YEAR</th>\n",
              "      <th>MONTH</th>\n",
              "      <th>DAY_OF_MONTH</th>\n",
              "      <th>DAY_OF_WEEK</th>\n",
              "      <th>OP_CARRIER</th>\n",
              "      <th>OP_CARRIER_FL_NUM</th>\n",
              "      <th>ORIGIN</th>\n",
              "      <th>DEST</th>\n",
              "      <th>CRS_DEP_TIME</th>\n",
              "      <th>DEP_TIME</th>\n",
              "      <th>DEP_DELAY</th>\n",
              "      <th>CRS_ARR_TIME</th>\n",
              "      <th>ARR_TIME</th>\n",
              "      <th>ARR_DELAY</th>\n",
              "      <th>CRS_ELAPSED_TIME</th>\n",
              "      <th>ACTUAL_ELAPSED_TIME</th>\n",
              "      <th>AIR_TIME</th>\n",
              "      <th>DISTANCE</th>\n",
              "      <th>DEP_HOUR</th>\n",
              "      <th>ARR_HOUR</th>\n",
              "    </tr>\n",
              "  </thead>\n",
              "  <tbody>\n",
              "    <tr>\n",
              "      <th>0</th>\n",
              "      <td>2021</td>\n",
              "      <td>2</td>\n",
              "      <td>19</td>\n",
              "      <td>5</td>\n",
              "      <td>OH</td>\n",
              "      <td>5581</td>\n",
              "      <td>CLT</td>\n",
              "      <td>OKC</td>\n",
              "      <td>1310</td>\n",
              "      <td>1306.0</td>\n",
              "      <td>-4.0</td>\n",
              "      <td>1510</td>\n",
              "      <td>1459.0</td>\n",
              "      <td>-11.0</td>\n",
              "      <td>180.0</td>\n",
              "      <td>173.0</td>\n",
              "      <td>145.0</td>\n",
              "      <td>940.0</td>\n",
              "      <td>13</td>\n",
              "      <td>14</td>\n",
              "    </tr>\n",
              "    <tr>\n",
              "      <th>1</th>\n",
              "      <td>2021</td>\n",
              "      <td>2</td>\n",
              "      <td>21</td>\n",
              "      <td>7</td>\n",
              "      <td>OH</td>\n",
              "      <td>5581</td>\n",
              "      <td>CLT</td>\n",
              "      <td>OKC</td>\n",
              "      <td>1310</td>\n",
              "      <td>1304.0</td>\n",
              "      <td>-6.0</td>\n",
              "      <td>1510</td>\n",
              "      <td>1513.0</td>\n",
              "      <td>3.0</td>\n",
              "      <td>180.0</td>\n",
              "      <td>189.0</td>\n",
              "      <td>162.0</td>\n",
              "      <td>940.0</td>\n",
              "      <td>13</td>\n",
              "      <td>15</td>\n",
              "    </tr>\n",
              "    <tr>\n",
              "      <th>2</th>\n",
              "      <td>2021</td>\n",
              "      <td>2</td>\n",
              "      <td>22</td>\n",
              "      <td>1</td>\n",
              "      <td>OH</td>\n",
              "      <td>5581</td>\n",
              "      <td>CLT</td>\n",
              "      <td>OKC</td>\n",
              "      <td>1310</td>\n",
              "      <td>1306.0</td>\n",
              "      <td>-4.0</td>\n",
              "      <td>1510</td>\n",
              "      <td>1454.0</td>\n",
              "      <td>-16.0</td>\n",
              "      <td>180.0</td>\n",
              "      <td>168.0</td>\n",
              "      <td>144.0</td>\n",
              "      <td>940.0</td>\n",
              "      <td>13</td>\n",
              "      <td>14</td>\n",
              "    </tr>\n",
              "    <tr>\n",
              "      <th>3</th>\n",
              "      <td>2021</td>\n",
              "      <td>2</td>\n",
              "      <td>25</td>\n",
              "      <td>4</td>\n",
              "      <td>OH</td>\n",
              "      <td>5581</td>\n",
              "      <td>CLT</td>\n",
              "      <td>OKC</td>\n",
              "      <td>1310</td>\n",
              "      <td>1306.0</td>\n",
              "      <td>-4.0</td>\n",
              "      <td>1510</td>\n",
              "      <td>1516.0</td>\n",
              "      <td>6.0</td>\n",
              "      <td>180.0</td>\n",
              "      <td>190.0</td>\n",
              "      <td>153.0</td>\n",
              "      <td>940.0</td>\n",
              "      <td>13</td>\n",
              "      <td>15</td>\n",
              "    </tr>\n",
              "    <tr>\n",
              "      <th>4</th>\n",
              "      <td>2021</td>\n",
              "      <td>2</td>\n",
              "      <td>26</td>\n",
              "      <td>5</td>\n",
              "      <td>OH</td>\n",
              "      <td>5581</td>\n",
              "      <td>CLT</td>\n",
              "      <td>OKC</td>\n",
              "      <td>1310</td>\n",
              "      <td>1303.0</td>\n",
              "      <td>-7.0</td>\n",
              "      <td>1510</td>\n",
              "      <td>1456.0</td>\n",
              "      <td>-14.0</td>\n",
              "      <td>180.0</td>\n",
              "      <td>173.0</td>\n",
              "      <td>145.0</td>\n",
              "      <td>940.0</td>\n",
              "      <td>13</td>\n",
              "      <td>14</td>\n",
              "    </tr>\n",
              "  </tbody>\n",
              "</table>\n",
              "</div>"
            ],
            "text/plain": [
              "   YEAR  MONTH  DAY_OF_MONTH  ...  DISTANCE DEP_HOUR  ARR_HOUR\n",
              "0  2021      2            19  ...     940.0       13        14\n",
              "1  2021      2            21  ...     940.0       13        15\n",
              "2  2021      2            22  ...     940.0       13        14\n",
              "3  2021      2            25  ...     940.0       13        15\n",
              "4  2021      2            26  ...     940.0       13        14\n",
              "\n",
              "[5 rows x 20 columns]"
            ]
          },
          "metadata": {
            "tags": []
          },
          "execution_count": 100
        }
      ]
    },
    {
      "cell_type": "markdown",
      "metadata": {
        "id": "nKWbW5HBSXxY"
      },
      "source": [
        "## Arrival Delay Visualizations"
      ]
    },
    {
      "cell_type": "code",
      "metadata": {
        "colab": {
          "base_uri": "https://localhost:8080/",
          "height": 287
        },
        "id": "-ppGfK3NuQ_p",
        "outputId": "d8c7aee4-fcff-40cd-eca9-2b1d8f5f5dcf"
      },
      "source": [
        "#Visualize the ARR_DELAYS for top 10 airlines\n",
        "\n",
        "#Get the list of the 10 biggest Airline Carriers\n",
        "top10_carrier = list(df['OP_CARRIER'].value_counts().head(10).index)\n",
        "df_sub = df[df['OP_CARRIER'].isin(top10_carrier)][['OP_CARRIER','ORIGIN','DEST','ARR_DELAY']]\n",
        "\n",
        "#Read the Carrier Key CSV file for full names of the Airlines\n",
        "carrier_key = pd.read_csv('data/airline/airlines.csv')\n",
        "\n",
        "#Merge with the dataframe containing the 10 biggest Airline Carriers\n",
        "df_sub = pd.merge(df_sub,carrier_key,how='left',left_on='OP_CARRIER', right_on='IATA_CODE')\n",
        "\n",
        "#Create a copy of the dataframe for Violin plot. Delays greater than 30 minutes are clubbed to show the data at the same scale\n",
        "df_temp = df_sub.copy()\n",
        "#All delays greater than 30 minutes are clubbed at 30\n",
        "df_temp['ARR_DELAY'] = df_temp['ARR_DELAY'].apply(lambda x:30 if x>=30 else x)\n",
        "df_temp['ARR_DELAY'] = df_temp['ARR_DELAY'].apply(lambda x:-30 if x<=-30 else x)\n",
        "\n",
        "\n",
        "#Create the plot in seaborn\n",
        "plt.figure(figsize=(8, 2))\n",
        "g = sns.violinplot(x=\"AIRLINE\", y=\"ARR_DELAY\", data=df_temp,palette=\"coolwarm\")\n",
        "g.set_ylabel('Arrival Delay')\n",
        "g.set_xlabel('')\n",
        "label = g.set_xticklabels(g.get_xticklabels(), rotation=90)\n",
        "fig = g.get_figure()\n",
        "fig.savefig(\"CodeFiles/delay_violin_plot.png\", bbox_inches='tight')"
      ],
      "execution_count": null,
      "outputs": [
        {
          "output_type": "display_data",
          "data": {
            "image/png": "[encoded data removed]",
            "text/plain": [
              "<Figure size 576x144 with 1 Axes>"
            ]
          },
          "metadata": {
            "tags": []
          }
        }
      ]
    },
    {
      "cell_type": "code",
      "metadata": {
        "colab": {
          "base_uri": "https://localhost:8080/",
          "height": 279
        },
        "id": "bFtzhQLGvaMx",
        "outputId": "cef39c8b-b232-4b95-edf1-69964590986d"
      },
      "source": [
        "#Plot percentage of flights delayed more than 30 minutes\n",
        "\n",
        "carrier_delay = pd.DataFrame()\n",
        "\n",
        "for UC in list(df['OP_CARRIER'].unique()):\n",
        "    perc_delayed = len(df[(df['OP_CARRIER']==UC) & (df['ARR_DELAY']>=30)].index)/len(df[df['OP_CARRIER']==UC].index)*100\n",
        "    carrier_delay = carrier_delay.append({'OP_CARRIER':UC,'percent_delayed' : perc_delayed},ignore_index=True)\n",
        "\n",
        "carrier_delay = pd.merge(carrier_delay,carrier_key,how='left',left_on='OP_CARRIER', right_on='IATA_CODE')\n",
        "carrier_delay.drop(['OP_CARRIER','IATA_CODE'],axis=1,inplace=True)\n",
        "carrier_delay.rename(index=str,columns={'AIRLINE':'Airline'},inplace=True)\n",
        "#Sort by percentage delayed\n",
        "carrier_delay.sort_values(by = ['percent_delayed'],ascending=False,inplace=True)\n",
        "\n",
        "\n",
        "color_pal = sns.color_palette(\"OrRd\", len(carrier_delay.index))\n",
        "color_pal = color_pal[::-1]\n",
        "\n",
        "plt.figure(figsize=(6, 4))\n",
        "g = sns.barplot(x=\"percent_delayed\", y=\"Airline\", data=carrier_delay,palette=color_pal)\n",
        "g.set_ylabel('')\n",
        "g.set_xlabel('Percentage of flights delayed more than 30 minutes')\n",
        "fig = g.get_figure()\n",
        "fig.savefig(\"CodeFiles/carrier_delay.png\", bbox_inches='tight')"
      ],
      "execution_count": null,
      "outputs": [
        {
          "output_type": "display_data",
          "data": {
            "image/png": "[encoded data removed]",
            "text/plain": [
              "<Figure size 432x288 with 1 Axes>"
            ]
          },
          "metadata": {
            "tags": []
          }
        }
      ]
    },
    {
      "cell_type": "code",
      "metadata": {
        "colab": {
          "base_uri": "https://localhost:8080/",
          "height": 576
        },
        "id": "dxP01T2BwkO7",
        "outputId": "931ea193-7c0f-4156-9fc0-6b8989903a34"
      },
      "source": [
        "carrier_delay"
      ],
      "execution_count": null,
      "outputs": [
        {
          "output_type": "execute_result",
          "data": {
            "text/html": [
              "<div>\n",
              "<style scoped>\n",
              "    .dataframe tbody tr th:only-of-type {\n",
              "        vertical-align: middle;\n",
              "    }\n",
              "\n",
              "    .dataframe tbody tr th {\n",
              "        vertical-align: top;\n",
              "    }\n",
              "\n",
              "    .dataframe thead th {\n",
              "        text-align: right;\n",
              "    }\n",
              "</style>\n",
              "<table border=\"1\" class=\"dataframe\">\n",
              "  <thead>\n",
              "    <tr style=\"text-align: right;\">\n",
              "      <th></th>\n",
              "      <th>percent_delayed</th>\n",
              "      <th>Airline</th>\n",
              "    </tr>\n",
              "  </thead>\n",
              "  <tbody>\n",
              "    <tr>\n",
              "      <th>16</th>\n",
              "      <td>12.042054</td>\n",
              "      <td>JetBlue Airways</td>\n",
              "    </tr>\n",
              "    <tr>\n",
              "      <th>6</th>\n",
              "      <td>9.700593</td>\n",
              "      <td>Allegiant Air LLC</td>\n",
              "    </tr>\n",
              "    <tr>\n",
              "      <th>2</th>\n",
              "      <td>9.370921</td>\n",
              "      <td>Horizon Air Industries Inc.</td>\n",
              "    </tr>\n",
              "    <tr>\n",
              "      <th>11</th>\n",
              "      <td>8.948524</td>\n",
              "      <td>Mesa Airlines Inc.</td>\n",
              "    </tr>\n",
              "    <tr>\n",
              "      <th>8</th>\n",
              "      <td>8.409215</td>\n",
              "      <td>American Eagle Airlines Inc.</td>\n",
              "    </tr>\n",
              "    <tr>\n",
              "      <th>1</th>\n",
              "      <td>7.313184</td>\n",
              "      <td>Skywest Airlines Inc.</td>\n",
              "    </tr>\n",
              "    <tr>\n",
              "      <th>9</th>\n",
              "      <td>6.787356</td>\n",
              "      <td>Spirit Air Lines</td>\n",
              "    </tr>\n",
              "    <tr>\n",
              "      <th>15</th>\n",
              "      <td>6.408058</td>\n",
              "      <td>Alaska Airlines Inc.</td>\n",
              "    </tr>\n",
              "    <tr>\n",
              "      <th>5</th>\n",
              "      <td>6.333837</td>\n",
              "      <td>Frontier Airlines Inc.</td>\n",
              "    </tr>\n",
              "    <tr>\n",
              "      <th>14</th>\n",
              "      <td>6.024606</td>\n",
              "      <td>American Airlines Inc.</td>\n",
              "    </tr>\n",
              "    <tr>\n",
              "      <th>3</th>\n",
              "      <td>5.966395</td>\n",
              "      <td>United Air Lines Inc.</td>\n",
              "    </tr>\n",
              "    <tr>\n",
              "      <th>12</th>\n",
              "      <td>5.775273</td>\n",
              "      <td>Republic Airways Inc.</td>\n",
              "    </tr>\n",
              "    <tr>\n",
              "      <th>4</th>\n",
              "      <td>5.360549</td>\n",
              "      <td>Delta Air Lines Inc.</td>\n",
              "    </tr>\n",
              "    <tr>\n",
              "      <th>0</th>\n",
              "      <td>5.351136</td>\n",
              "      <td>PSA Airlines Inc.</td>\n",
              "    </tr>\n",
              "    <tr>\n",
              "      <th>13</th>\n",
              "      <td>4.379733</td>\n",
              "      <td>Endeavor Air</td>\n",
              "    </tr>\n",
              "    <tr>\n",
              "      <th>10</th>\n",
              "      <td>4.148801</td>\n",
              "      <td>Southwest Airlines Co.</td>\n",
              "    </tr>\n",
              "    <tr>\n",
              "      <th>7</th>\n",
              "      <td>2.292363</td>\n",
              "      <td>Hawaiian Airlines Inc.</td>\n",
              "    </tr>\n",
              "  </tbody>\n",
              "</table>\n",
              "</div>"
            ],
            "text/plain": [
              "    percent_delayed                       Airline\n",
              "16        12.042054               JetBlue Airways\n",
              "6          9.700593             Allegiant Air LLC\n",
              "2          9.370921   Horizon Air Industries Inc.\n",
              "11         8.948524            Mesa Airlines Inc.\n",
              "8          8.409215  American Eagle Airlines Inc.\n",
              "1          7.313184         Skywest Airlines Inc.\n",
              "9          6.787356              Spirit Air Lines\n",
              "15         6.408058          Alaska Airlines Inc.\n",
              "5          6.333837        Frontier Airlines Inc.\n",
              "14         6.024606        American Airlines Inc.\n",
              "3          5.966395         United Air Lines Inc.\n",
              "12         5.775273         Republic Airways Inc.\n",
              "4          5.360549          Delta Air Lines Inc.\n",
              "0          5.351136             PSA Airlines Inc.\n",
              "13         4.379733                  Endeavor Air\n",
              "10         4.148801        Southwest Airlines Co.\n",
              "7          2.292363        Hawaiian Airlines Inc."
            ]
          },
          "metadata": {
            "tags": []
          },
          "execution_count": 103
        }
      ]
    },
    {
      "cell_type": "code",
      "metadata": {
        "id": "sMgWReMkxYFe"
      },
      "source": [
        "del df_temp\n",
        "del carrier_delay\n",
        "del df_sub"
      ],
      "execution_count": null,
      "outputs": []
    },
    {
      "cell_type": "markdown",
      "metadata": {
        "id": "scq2JUqdSmpm"
      },
      "source": [
        "## Top 50 Airports (by Traffic - number of Departures and Arrivals)\n",
        "\n",
        "We again take the entire dataset and get the list of top 50 airports by traffic, calculated on the number of arrivals and departures. Then we plot these 50 airports on the map os USA using plotly and cfflinks"
      ]
    },
    {
      "cell_type": "code",
      "metadata": {
        "id": "buiBur_QxZcI"
      },
      "source": [
        "#Create a new dataframe combining the Arrival and Destination Airports in one column\n",
        "df_airport = pd.DataFrame(pd.concat([df['ORIGIN'],df['DEST']]),columns={'IATA'})\n",
        "\n",
        "#Select the Top 50 Airports \n",
        "df_top50 = pd.DataFrame(df_airport['IATA'].value_counts().head(50)).reset_index()\n",
        "df_top50.rename(index=str, columns={\"index\":\"IATA\",\"IATA\":\"Count\"},inplace=True)\n",
        "del df_airport"
      ],
      "execution_count": null,
      "outputs": []
    },
    {
      "cell_type": "markdown",
      "metadata": {
        "id": "eSLey4tBTJHd"
      },
      "source": [
        "For plotting this data we import the airport Latitude and Longitude obtained from [OpenFlights.org](https://openflights.org/data.html)"
      ]
    },
    {
      "cell_type": "code",
      "metadata": {
        "id": "gXBfbor8xg7s"
      },
      "source": [
        "#Read Airport data\n",
        "df_airports = pd.read_csv('data/airport/airports.dat')\n",
        "df_airports = df_airports[df_airports['Country']=='United States'][['IATA','Latitude','Longitude']].copy()"
      ],
      "execution_count": null,
      "outputs": []
    },
    {
      "cell_type": "code",
      "metadata": {
        "id": "eTL3B3NuycOR"
      },
      "source": [
        "#Merge with the DataFrame containing the list of Top 50 Airports\n",
        "df_top50 = pd.merge(df_top50,df_airports,how='left',on=\"IATA\")"
      ],
      "execution_count": null,
      "outputs": []
    },
    {
      "cell_type": "code",
      "metadata": {
        "id": "xrrOqbxryecf"
      },
      "source": [
        "#Save the top 50 airports in a CSV file\n",
        "df_top50.to_csv('CodeFiles/top50airports.csv',index=False)"
      ],
      "execution_count": null,
      "outputs": []
    },
    {
      "cell_type": "code",
      "metadata": {
        "colab": {
          "base_uri": "https://localhost:8080/",
          "height": 560
        },
        "id": "l51g8bEwyjGQ",
        "outputId": "c94d1738-9a18-405c-e877-538691a114f5"
      },
      "source": [
        "#Map the Airports as a Bubble map, with size corresponding to Traffic\n",
        "\n",
        "import plotly.offline as py\n",
        "\n",
        "#First create a new columns with Textual information\n",
        "df_top50['text'] = df_top50['IATA'] + '<br>Total Flights: ' + (df_top50['Count']/1e3).astype(str)+' (Thousands)'\n",
        "\n",
        "#Create plot using Plotly\n",
        "limits = [(0,10),(11,30),(31,50)]\n",
        "colors = [\"rgb(0,116,217)\",\"rgb(255,65,54)\",\"rgb(133,20,75)\"]\n",
        "names = [\"Top 10 Busiest\",\"11-30\",\"31-50\"]\n",
        "cities = []\n",
        "scale = 2500\n",
        "\n",
        "for i in range(len(limits)):\n",
        "    lim = limits[i]\n",
        "    df_sub = df_top50[lim[0]:lim[1]]\n",
        "    city = dict(\n",
        "        type = 'scattergeo',\n",
        "        locationmode = 'USA-states',\n",
        "        lon = df_sub['Longitude'],\n",
        "        lat = df_sub['Latitude'],\n",
        "        text = df_sub['text'],\n",
        "        marker = dict(\n",
        "            size = df_sub['Count']/scale,\n",
        "            color = colors[i],\n",
        "            line = dict(width=0.5, color='rgb(40,40,40)'),\n",
        "            sizemode = 'area'\n",
        "        ),\n",
        "        name = names[i] )\n",
        "    cities.append(city)\n",
        "    \n",
        "layout = dict(\n",
        "        title = 'Top 50 Busiest Airports by Traffic',\n",
        "        showlegend = True,\n",
        "        geo = dict(\n",
        "            scope='usa',\n",
        "            projection=dict( type='albers usa' ),\n",
        "            showland = True,\n",
        "            landcolor = 'rgb(217, 217, 217)',\n",
        "            subunitwidth=1,\n",
        "            countrywidth=1,\n",
        "            subunitcolor=\"rgb(255, 255, 255)\",\n",
        "            countrycolor=\"rgb(255, 255, 255)\"\n",
        "        ),\n",
        "    )\n",
        "\n",
        "fig = dict( data=cities, layout=layout )\n",
        "py.iplot(fig, validate=False)\n",
        "py.plot(fig, validate=False, filename='CodeFiles/d3-map-airports.html')"
      ],
      "execution_count": null,
      "outputs": [
        {
          "output_type": "display_data",
          "data": {
            "text/html": [
              "<html>\n",
              "<head><meta charset=\"utf-8\" /></head>\n",
              "<body>\n",
              "    <div>\n",
              "            <script src=\"https://cdnjs.cloudflare.com/ajax/libs/mathjax/2.7.5/MathJax.js?config=TeX-AMS-MML_SVG\"></script><script type=\"text/javascript\">if (window.MathJax) {MathJax.Hub.Config({SVG: {font: \"STIX-Web\"}});}</script>\n",
              "                <script type=\"text/javascript\">window.PlotlyConfig = {MathJaxConfig: 'local'};</script>\n",
              "        <script src=\"https://cdn.plot.ly/plotly-latest.min.js\"></script>    \n",
              "            <div id=\"352c678d-3547-47ae-b35a-2bd14214ebec\" class=\"plotly-graph-div\" style=\"height:525px; width:100%;\"></div>\n",
              "            <script type=\"text/javascript\">\n",
              "                \n",
              "                    window.PLOTLYENV=window.PLOTLYENV || {};\n",
              "                    \n",
              "                if (document.getElementById(\"352c678d-3547-47ae-b35a-2bd14214ebec\")) {\n",
              "                    Plotly.newPlot(\n",
              "                        '352c678d-3547-47ae-b35a-2bd14214ebec',\n",
              "                        [{\"lat\": [33.636719, 32.896828, 39.861655999999996, 35.214, 41.978603, 33.434278000000006, 33.942536, 47.449, 42.212444, 36.080056], \"locationmode\": \"USA-states\", \"lon\": [-84.428067, -97.037997, -104.67317800000001, -80.943139, -87.904842, -112.011583, -118.408075, -122.309306, -83.353389, -115.15225], \"marker\": {\"color\": \"rgb(0,116,217)\", \"line\": {\"color\": \"rgb(40,40,40)\", \"width\": 0.5}, \"size\": [51.8216, 42.5748, 40.8916, 30.7528, 28.3104, 23.604, 22.522, 21.798, 21.1744, 19.7044], \"sizemode\": \"area\"}, \"name\": \"Top 10 Busiest\", \"text\": [\"ATL<br>Total Flights: 129.554 (Thousands)\", \"DFW<br>Total Flights: 106.437 (Thousands)\", \"DEN<br>Total Flights: 102.229 (Thousands)\", \"CLT<br>Total Flights: 76.882 (Thousands)\", \"ORD<br>Total Flights: 70.776 (Thousands)\", \"PHX<br>Total Flights: 59.01 (Thousands)\", \"LAX<br>Total Flights: 56.305 (Thousands)\", \"SEA<br>Total Flights: 54.495 (Thousands)\", \"DTW<br>Total Flights: 52.936 (Thousands)\", \"LAS<br>Total Flights: 49.261 (Thousands)\"], \"type\": \"scattergeo\"}, {\"lat\": [44.881956, 28.429394, 29.984433000000003, 37.618972, 26.072582999999998, 39.871944, 25.79325, 40.6925, 39.175360999999995, 27.975471999999996, 42.364346999999995, 36.124472, 41.785971999999994, 32.733556, 40.639751000000004, 40.777245, 32.847111, 29.645419, 38.944533], \"locationmode\": \"USA-states\", \"lon\": [-93.221767, -81.308994, -95.341442, -122.374889, -80.15275, -75.241139, -80.29055600000001, -74.168667, -76.66833299999999, -82.53325, -71.00518100000001, -86.67819399999999, -87.75241700000001, -117.18966699999999, -73.778925, -73.872608, -96.851778, -95.278889, -77.455811], \"marker\": {\"color\": \"rgb(255,65,54)\", \"line\": {\"color\": \"rgb(40,40,40)\", \"width\": 0.5}, \"size\": [19.5228, 19.2936, 17.068, 13.9008, 13.4576, 11.8728, 11.5584, 11.3548, 11.3172, 10.562, 10.4656, 9.8124, 9.3376, 8.4888, 8.2116, 8.056, 7.886, 7.348, 7.2292], \"sizemode\": \"area\"}, \"name\": \"11-30\", \"text\": [\"MSP<br>Total Flights: 48.807 (Thousands)\", \"MCO<br>Total Flights: 48.234 (Thousands)\", \"IAH<br>Total Flights: 42.67 (Thousands)\", \"SFO<br>Total Flights: 34.752 (Thousands)\", \"FLL<br>Total Flights: 33.644 (Thousands)\", \"PHL<br>Total Flights: 29.682 (Thousands)\", \"MIA<br>Total Flights: 28.896 (Thousands)\", \"EWR<br>Total Flights: 28.387 (Thousands)\", \"BWI<br>Total Flights: 28.293 (Thousands)\", \"TPA<br>Total Flights: 26.405 (Thousands)\", \"BOS<br>Total Flights: 26.164 (Thousands)\", \"BNA<br>Total Flights: 24.531 (Thousands)\", \"MDW<br>Total Flights: 23.344 (Thousands)\", \"SAN<br>Total Flights: 21.222 (Thousands)\", \"JFK<br>Total Flights: 20.529 (Thousands)\", \"LGA<br>Total Flights: 20.14 (Thousands)\", \"DAL<br>Total Flights: 19.715 (Thousands)\", \"HOU<br>Total Flights: 18.37 (Thousands)\", \"IAD<br>Total Flights: 18.073 (Thousands)\"], \"type\": \"scattergeo\"}, {\"lat\": [26.536167, 38.748697, 38.852083, 21.318680999999998, 38.695417, 30.194528000000002, 35.877639, 29.993389, 39.297606, 37.721278000000005, 37.3626, 39.048836, 39.717331, 41.411689, null, 33.675667, 40.491467, 39.997972, 29.533694], \"locationmode\": \"USA-states\", \"lon\": [-81.755167, -90.370028, -77.037722, -157.922428, -121.590778, -97.669889, -78.787472, -90.258028, -94.71390500000001, -122.220722, -121.929022, -84.667822, -86.294383, -81.84979399999999, null, -117.868222, -80.232872, -82.891889, -98.469778], \"marker\": {\"color\": \"rgb(133,20,75)\", \"line\": {\"color\": \"rgb(40,40,40)\", \"width\": 0.5}, \"size\": [7.0384, 6.4976, 6.3164, 5.9488, 5.84, 5.828, 5.4468, 5.1236, 5.1204, 5.0196, 4.8584, 4.7812, 4.7516, 4.678, 4.3896, 4.3008, 4.2868, 4.206, 3.5296], \"sizemode\": \"area\"}, \"name\": \"31-50\", \"text\": [\"RSW<br>Total Flights: 17.596 (Thousands)\", \"STL<br>Total Flights: 16.244 (Thousands)\", \"DCA<br>Total Flights: 15.791 (Thousands)\", \"HNL<br>Total Flights: 14.872 (Thousands)\", \"SMF<br>Total Flights: 14.6 (Thousands)\", \"AUS<br>Total Flights: 14.57 (Thousands)\", \"RDU<br>Total Flights: 13.617 (Thousands)\", \"MSY<br>Total Flights: 12.809 (Thousands)\", \"MCI<br>Total Flights: 12.801 (Thousands)\", \"OAK<br>Total Flights: 12.549 (Thousands)\", \"SJC<br>Total Flights: 12.146 (Thousands)\", \"CVG<br>Total Flights: 11.953 (Thousands)\", \"IND<br>Total Flights: 11.879 (Thousands)\", \"CLE<br>Total Flights: 11.695 (Thousands)\", \"SJU<br>Total Flights: 10.974 (Thousands)\", \"SNA<br>Total Flights: 10.752 (Thousands)\", \"PIT<br>Total Flights: 10.717 (Thousands)\", \"CMH<br>Total Flights: 10.515 (Thousands)\", \"SAT<br>Total Flights: 8.824 (Thousands)\"], \"type\": \"scattergeo\"}],\n",
              "                        {\"geo\": {\"countrycolor\": \"rgb(255, 255, 255)\", \"countrywidth\": 1, \"landcolor\": \"rgb(217, 217, 217)\", \"projection\": {\"type\": \"albers usa\"}, \"scope\": \"usa\", \"showland\": true, \"subunitcolor\": \"rgb(255, 255, 255)\", \"subunitwidth\": 1}, \"showlegend\": true, \"title\": \"Top 50 Busiest Airports by Traffic\"},\n",
              "                        {\"responsive\": true}\n",
              "                    ).then(function(){\n",
              "                            \n",
              "var gd = document.getElementById('352c678d-3547-47ae-b35a-2bd14214ebec');\n",
              "var x = new MutationObserver(function (mutations, observer) {{\n",
              "        var display = window.getComputedStyle(gd).display;\n",
              "        if (!display || display === 'none') {{\n",
              "            console.log([gd, 'removed!']);\n",
              "            Plotly.purge(gd);\n",
              "            observer.disconnect();\n",
              "        }}\n",
              "}});\n",
              "\n",
              "// Listen for the removal of the full notebook cells\n",
              "var notebookContainer = gd.closest('#notebook-container');\n",
              "if (notebookContainer) {{\n",
              "    x.observe(notebookContainer, {childList: true});\n",
              "}}\n",
              "\n",
              "// Listen for the clearing of the current output cell\n",
              "var outputEl = gd.closest('.output');\n",
              "if (outputEl) {{\n",
              "    x.observe(outputEl, {childList: true});\n",
              "}}\n",
              "\n",
              "                        })\n",
              "                };\n",
              "                \n",
              "            </script>\n",
              "        </div>\n",
              "</body>\n",
              "</html>"
            ]
          },
          "metadata": {
            "tags": []
          }
        },
        {
          "output_type": "execute_result",
          "data": {
            "application/vnd.google.colaboratory.intrinsic+json": {
              "type": "string"
            },
            "text/plain": [
              "'CodeFiles/d3-map-airports.html'"
            ]
          },
          "metadata": {
            "tags": []
          },
          "execution_count": 109
        }
      ]
    },
    {
      "cell_type": "markdown",
      "metadata": {
        "id": "7M3cbwJhUFHA"
      },
      "source": [
        "## Plotting flight paths with average delay of more than 10 minutes"
      ]
    },
    {
      "cell_type": "code",
      "metadata": {
        "colab": {
          "base_uri": "https://localhost:8080/"
        },
        "id": "g4lus7fZmbFe",
        "outputId": "5855ba50-e966-40e4-969e-669f9947d22d"
      },
      "source": [
        "#Make subset of data containing only flights from top 50 airports\n",
        "top50_airport = df_top50['IATA'].tolist()\n",
        "df_sub = df[df['ORIGIN'].isin(top50_airport)]\n",
        "df_sub = df_sub[df_sub['DEST'].isin(top50_airport)]\n",
        "\n",
        "#Check the % of data retained:\n",
        "data_retained = len(df_sub.index)/len(df.index)\n",
        "print('Data Retained: '+str(round(data_retained*100,2))+' %')"
      ],
      "execution_count": null,
      "outputs": [
        {
          "output_type": "stream",
          "text": [
            "Data Retained: 56.39 %\n"
          ],
          "name": "stdout"
        }
      ]
    },
    {
      "cell_type": "code",
      "metadata": {
        "id": "3UHp2Ku8mhuP"
      },
      "source": [
        "#Create a dataframe of airports for plotting (top50)\n",
        "df_airports = pd.DataFrame(df_sub['ORIGIN'].unique())\n",
        "df_airports.rename(index=str,columns={0:'IATA'},inplace=True)\n",
        "\n",
        "#Read Airport coordinates\n",
        "df_airport_coord = pd.read_csv('data/airport/airports.dat')\n",
        "df_airport_coord = df_airport_coord[df_airport_coord['Country']=='United States'][['IATA','Latitude','Longitude']].copy()\n",
        "df_airports = pd.merge(df_airports,df_airport_coord,how='left',on=\"IATA\")\n",
        "\n",
        "\n",
        "#Read Airport Full Names\n",
        "airport_key = pd.read_csv('data/airport/airports.csv')\n",
        "airport_key.rename(index=str, columns={\"IATA_CODE\": \"IATA\"},inplace=True)\n",
        "df_airports = pd.merge(df_airports,airport_key,how='left',on='IATA')"
      ],
      "execution_count": null,
      "outputs": []
    },
    {
      "cell_type": "code",
      "metadata": {
        "id": "TDTUwy6rnulp"
      },
      "source": [
        "#Create a flights dataframe for plotting flight paths\n",
        "df_flights = df_sub[['ORIGIN','DEST','ARR_DELAY']].groupby(by=['ORIGIN','DEST']).mean()\n",
        "df_flights.reset_index(inplace=True)\n",
        "df_flights['ARR_DELAY'] = df_flights['ARR_DELAY'].apply(lambda x:0 if x<0 else round(x))\n",
        "df_flights.dropna(inplace=True)\n",
        "#Select only flight paths with average delay of more than 10 minutes\n",
        "df_flights = df_flights[df_flights['ARR_DELAY']>=10]"
      ],
      "execution_count": null,
      "outputs": []
    },
    {
      "cell_type": "code",
      "metadata": {
        "id": "2JphKmYqnyzE"
      },
      "source": [
        "#Add start and end latitude and longitude for each flight\n",
        "df_flights = pd.merge(df_flights,df_airports[['IATA','Latitude','Longitude']],how='left',left_on = 'ORIGIN', right_on = 'IATA')\n",
        "df_flights.rename(index=str, columns={\"Latitude\": \"start_lat\"},inplace=True)\n",
        "df_flights.rename(index=str, columns={\"Longitude\": \"start_lon\"},inplace=True)\n",
        "\n",
        "df_flights = pd.merge(df_flights,df_airports[['IATA','Latitude','Longitude']],how='left',left_on = 'DEST', right_on = 'IATA')\n",
        "df_flights.rename(index=str, columns={\"Latitude\": \"end_lat\"},inplace=True)\n",
        "df_flights.rename(index=str, columns={\"Longitude\": \"end_lon\"},inplace=True)\n",
        "\n",
        "df_flights.drop(['IATA_x','IATA_y'],axis=1,inplace=True)"
      ],
      "execution_count": null,
      "outputs": []
    },
    {
      "cell_type": "code",
      "metadata": {
        "id": "5EOBryVen1SE"
      },
      "source": [
        "#Remove Honolulu\n",
        "df_flights = df_flights[df_flights['ORIGIN']!='HNL'].copy()\n",
        "df_flights = df_flights[df_flights['DEST']!='HNL'].copy()\n",
        "df_airports = df_airports[df_airports['IATA']!='HNL'].copy()"
      ],
      "execution_count": null,
      "outputs": []
    },
    {
      "cell_type": "code",
      "metadata": {
        "colab": {
          "base_uri": "https://localhost:8080/",
          "height": 560
        },
        "id": "ycsMTU-pn4qv",
        "outputId": "4fd729ce-9617-4370-d8c6-6d396ff1031c"
      },
      "source": [
        "import plotly.offline as py\n",
        "\n",
        "airports = [ dict(\n",
        "        type = 'scattergeo',\n",
        "        locationmode = 'USA-states',\n",
        "        lon = df_airports['Longitude'],\n",
        "        lat = df_airports['Latitude'],\n",
        "        hoverinfo = 'text',\n",
        "        text = df_airports['AIRPORT'],\n",
        "        mode = 'markers',\n",
        "        marker = dict( \n",
        "            size=2, \n",
        "            color='rgb(0, 0, 0)',\n",
        "            line = dict(\n",
        "                width=3,\n",
        "                color='rgba(68, 68, 68, 0)'\n",
        "            )\n",
        "        ))]\n",
        "        \n",
        "flight_paths = []\n",
        "for i in range( len( df_flights ) ):\n",
        "    flight_paths.append(\n",
        "        dict(\n",
        "            type = 'scattergeo',\n",
        "            locationmode = 'USA-states',\n",
        "            lon = [ df_flights['start_lon'][i], df_flights['end_lon'][i] ],\n",
        "            lat = [ df_flights['start_lat'][i], df_flights['end_lat'][i] ],\n",
        "            mode = 'lines',\n",
        "            line = dict(\n",
        "                #width = 5,\n",
        "                width = (float((df_flights['ARR_DELAY'][i]-1)-df_flights['ARR_DELAY'].min())/(float(df_flights['ARR_DELAY'].max()-df_flights['ARR_DELAY'].min())/2.0))+2,\n",
        "                color = 'red'\n",
        "            ),\n",
        "            #opacity = 1\n",
        "            opacity = float(df_flights['ARR_DELAY'][i])/float(df_flights['ARR_DELAY'].max()),\n",
        "        )\n",
        "    )\n",
        "    \n",
        "layout = dict(\n",
        "        title = 'Routes with an average delay of more than 10 minutes (2020-11 to 2021-02)',\n",
        "        showlegend = False, \n",
        "        geo = dict(\n",
        "            scope='usa',\n",
        "            projection=dict( type='albers usa' ),\n",
        "            #scope='north america',\n",
        "            #projection=dict( type='azimuthal equal area' ),\n",
        "            showland = True,\n",
        "            landcolor = 'rgb(243, 243, 243)',\n",
        "            countrycolor = 'rgb(204, 204, 204)',\n",
        "        ),\n",
        "    )\n",
        "    \n",
        "fig = dict( data=flight_paths + airports, layout=layout )\n",
        "py.iplot( fig, filename='d3-flight-paths' )\n",
        "py.plot( fig, filename='CodeFiles/d3-flight-paths.html' )"
      ],
      "execution_count": null,
      "outputs": [
        {
          "output_type": "display_data",
          "data": {
            "text/html": [
              "<html>\n",
              "<head><meta charset=\"utf-8\" /></head>\n",
              "<body>\n",
              "    <div>\n",
              "            <script src=\"https://cdnjs.cloudflare.com/ajax/libs/mathjax/2.7.5/MathJax.js?config=TeX-AMS-MML_SVG\"></script><script type=\"text/javascript\">if (window.MathJax) {MathJax.Hub.Config({SVG: {font: \"STIX-Web\"}});}</script>\n",
              "                <script type=\"text/javascript\">window.PlotlyConfig = {MathJaxConfig: 'local'};</script>\n",
              "        <script src=\"https://cdn.plot.ly/plotly-latest.min.js\"></script>    \n",
              "            <div id=\"e3898313-2d14-48ba-8c23-9cd0a2f05c1c\" class=\"plotly-graph-div\" style=\"height:525px; width:100%;\"></div>\n",
              "            <script type=\"text/javascript\">\n",
              "                \n",
              "                    window.PLOTLYENV=window.PLOTLYENV || {};\n",
              "                    \n",
              "                if (document.getElementById(\"e3898313-2d14-48ba-8c23-9cd0a2f05c1c\")) {\n",
              "                    Plotly.newPlot(\n",
              "                        'e3898313-2d14-48ba-8c23-9cd0a2f05c1c',\n",
              "                        [{\"lat\": [30.194528000000002, 39.048836], \"line\": {\"color\": \"red\", \"width\": 2.0727272727272728}, \"locationmode\": \"USA-states\", \"lon\": [-97.669889, -84.667822], \"mode\": \"lines\", \"opacity\": 0.2, \"type\": \"scattergeo\"}, {\"lat\": [30.194528000000002, 32.896828], \"line\": {\"color\": \"red\", \"width\": 2.036363636363636}, \"locationmode\": \"USA-states\", \"lon\": [-97.669889, -97.037997], \"mode\": \"lines\", \"opacity\": 0.18461538461538463, \"type\": \"scattergeo\"}, {\"lat\": [30.194528000000002, 40.639751000000004], \"line\": {\"color\": \"red\", \"width\": 2.1454545454545455}, \"locationmode\": \"USA-states\", \"lon\": [-97.669889, -73.778925], \"mode\": \"lines\", \"opacity\": 0.23076923076923078, \"type\": \"scattergeo\"}, {\"lat\": [36.124472, 40.639751000000004], \"line\": {\"color\": \"red\", \"width\": 2.0727272727272728}, \"locationmode\": \"USA-states\", \"lon\": [-86.67819399999999, -73.778925], \"mode\": \"lines\", \"opacity\": 0.2, \"type\": \"scattergeo\"}, {\"lat\": [39.048836, 30.194528000000002], \"line\": {\"color\": \"red\", \"width\": 2.109090909090909}, \"locationmode\": \"USA-states\", \"lon\": [-84.667822, -97.669889], \"mode\": \"lines\", \"opacity\": 0.2153846153846154, \"type\": \"scattergeo\"}, {\"lat\": [39.048836, 33.434278000000006], \"line\": {\"color\": \"red\", \"width\": 2.9454545454545453}, \"locationmode\": \"USA-states\", \"lon\": [-84.667822, -112.011583], \"mode\": \"lines\", \"opacity\": 0.5692307692307692, \"type\": \"scattergeo\"}, {\"lat\": [32.896828, 29.645419], \"line\": {\"color\": \"red\", \"width\": 2.0}, \"locationmode\": \"USA-states\", \"lon\": [-97.037997, -95.278889], \"mode\": \"lines\", \"opacity\": 0.16923076923076924, \"type\": \"scattergeo\"}, {\"lat\": [32.896828, 40.639751000000004], \"line\": {\"color\": \"red\", \"width\": 2.327272727272727}, \"locationmode\": \"USA-states\", \"lon\": [-97.037997, -73.778925], \"mode\": \"lines\", \"opacity\": 0.3076923076923077, \"type\": \"scattergeo\"}, {\"lat\": [42.212444, 30.194528000000002], \"line\": {\"color\": \"red\", \"width\": 2.4727272727272727}, \"locationmode\": \"USA-states\", \"lon\": [-83.353389, -97.669889], \"mode\": \"lines\", \"opacity\": 0.36923076923076925, \"type\": \"scattergeo\"}, {\"lat\": [42.212444, null], \"line\": {\"color\": \"red\", \"width\": 2.1818181818181817}, \"locationmode\": \"USA-states\", \"lon\": [-83.353389, null], \"mode\": \"lines\", \"opacity\": 0.24615384615384617, \"type\": \"scattergeo\"}, {\"lat\": [29.645419, 32.896828], \"line\": {\"color\": \"red\", \"width\": 2.327272727272727}, \"locationmode\": \"USA-states\", \"lon\": [-95.278889, -97.037997], \"mode\": \"lines\", \"opacity\": 0.3076923076923077, \"type\": \"scattergeo\"}, {\"lat\": [38.944533, 45.588722], \"line\": {\"color\": \"red\", \"width\": 2.0}, \"locationmode\": \"USA-states\", \"lon\": [-77.455811, -122.5975], \"mode\": \"lines\", \"opacity\": 0.16923076923076924, \"type\": \"scattergeo\"}, {\"lat\": [38.944533, 27.975471999999996], \"line\": {\"color\": \"red\", \"width\": 2.036363636363636}, \"locationmode\": \"USA-states\", \"lon\": [-77.455811, -82.53325], \"mode\": \"lines\", \"opacity\": 0.18461538461538463, \"type\": \"scattergeo\"}, {\"lat\": [29.984433000000003, 32.896828], \"line\": {\"color\": \"red\", \"width\": 1.9636363636363636}, \"locationmode\": \"USA-states\", \"lon\": [-95.341442, -97.037997], \"mode\": \"lines\", \"opacity\": 0.15384615384615385, \"type\": \"scattergeo\"}, {\"lat\": [39.717331, 29.993389], \"line\": {\"color\": \"red\", \"width\": 3.963636363636364}, \"locationmode\": \"USA-states\", \"lon\": [-86.294383, -90.258028], \"mode\": \"lines\", \"opacity\": 1.0, \"type\": \"scattergeo\"}, {\"lat\": [40.639751000000004, 32.896828], \"line\": {\"color\": \"red\", \"width\": 2.0727272727272728}, \"locationmode\": \"USA-states\", \"lon\": [-73.778925, -97.037997], \"mode\": \"lines\", \"opacity\": 0.2, \"type\": \"scattergeo\"}, {\"lat\": [40.639751000000004, 26.536167], \"line\": {\"color\": \"red\", \"width\": 1.9636363636363636}, \"locationmode\": \"USA-states\", \"lon\": [-73.778925, -81.755167], \"mode\": \"lines\", \"opacity\": 0.15384615384615385, \"type\": \"scattergeo\"}, {\"lat\": [40.639751000000004, 38.695417], \"line\": {\"color\": \"red\", \"width\": 2.327272727272727}, \"locationmode\": \"USA-states\", \"lon\": [-73.778925, -121.590778], \"mode\": \"lines\", \"opacity\": 0.3076923076923077, \"type\": \"scattergeo\"}, {\"lat\": [44.881956, 30.194528000000002], \"line\": {\"color\": \"red\", \"width\": 1.9636363636363636}, \"locationmode\": \"USA-states\", \"lon\": [-93.221767, -97.669889], \"mode\": \"lines\", \"opacity\": 0.15384615384615385, \"type\": \"scattergeo\"}, {\"lat\": [29.993389, 39.717331], \"line\": {\"color\": \"red\", \"width\": 3.3454545454545457}, \"locationmode\": \"USA-states\", \"lon\": [-90.258028, -86.294383], \"mode\": \"lines\", \"opacity\": 0.7384615384615385, \"type\": \"scattergeo\"}, {\"lat\": [29.993389, 44.881956], \"line\": {\"color\": \"red\", \"width\": 2.327272727272727}, \"locationmode\": \"USA-states\", \"lon\": [-90.258028, -93.221767], \"mode\": \"lines\", \"opacity\": 0.3076923076923077, \"type\": \"scattergeo\"}, {\"lat\": [29.993389, 40.491467], \"line\": {\"color\": \"red\", \"width\": 3.018181818181818}, \"locationmode\": \"USA-states\", \"lon\": [-90.258028, -80.232872], \"mode\": \"lines\", \"opacity\": 0.6, \"type\": \"scattergeo\"}, {\"lat\": [29.993389, 35.877639], \"line\": {\"color\": \"red\", \"width\": 2.1454545454545455}, \"locationmode\": \"USA-states\", \"lon\": [-90.258028, -78.787472], \"mode\": \"lines\", \"opacity\": 0.23076923076923078, \"type\": \"scattergeo\"}, {\"lat\": [45.588722, 35.214], \"line\": {\"color\": \"red\", \"width\": 3.090909090909091}, \"locationmode\": \"USA-states\", \"lon\": [-122.5975, -80.943139], \"mode\": \"lines\", \"opacity\": 0.6307692307692307, \"type\": \"scattergeo\"}, {\"lat\": [40.491467, 29.993389], \"line\": {\"color\": \"red\", \"width\": 3.3454545454545457}, \"locationmode\": \"USA-states\", \"lon\": [-80.232872, -90.258028], \"mode\": \"lines\", \"opacity\": 0.7384615384615385, \"type\": \"scattergeo\"}, {\"lat\": [35.877639, 36.080056], \"line\": {\"color\": \"red\", \"width\": 1.9636363636363636}, \"locationmode\": \"USA-states\", \"lon\": [-78.787472, -115.15225], \"mode\": \"lines\", \"opacity\": 0.15384615384615385, \"type\": \"scattergeo\"}, {\"lat\": [29.533694, 42.212444], \"line\": {\"color\": \"red\", \"width\": 2.0727272727272728}, \"locationmode\": \"USA-states\", \"lon\": [-98.469778, -83.353389], \"mode\": \"lines\", \"opacity\": 0.2, \"type\": \"scattergeo\"}, {\"lat\": [29.533694, 26.072582999999998], \"line\": {\"color\": \"red\", \"width\": 2.0}, \"locationmode\": \"USA-states\", \"lon\": [-98.469778, -80.15275], \"mode\": \"lines\", \"opacity\": 0.16923076923076924, \"type\": \"scattergeo\"}, {\"lat\": [null, 42.364346999999995], \"line\": {\"color\": \"red\", \"width\": 1.9636363636363636}, \"locationmode\": \"USA-states\", \"lon\": [null, -71.00518100000001], \"mode\": \"lines\", \"opacity\": 0.15384615384615385, \"type\": \"scattergeo\"}, {\"lat\": [null, 38.852083], \"line\": {\"color\": \"red\", \"width\": 2.0}, \"locationmode\": \"USA-states\", \"lon\": [null, -77.037722], \"mode\": \"lines\", \"opacity\": 0.16923076923076924, \"type\": \"scattergeo\"}, {\"lat\": [null, 42.212444], \"line\": {\"color\": \"red\", \"width\": 2.290909090909091}, \"locationmode\": \"USA-states\", \"lon\": [null, -83.353389], \"mode\": \"lines\", \"opacity\": 0.2923076923076923, \"type\": \"scattergeo\"}, {\"lat\": [40.788389, 39.871944], \"line\": {\"color\": \"red\", \"width\": 2.036363636363636}, \"locationmode\": \"USA-states\", \"lon\": [-111.977772, -75.241139], \"mode\": \"lines\", \"opacity\": 0.18461538461538463, \"type\": \"scattergeo\"}, {\"hoverinfo\": \"text\", \"lat\": [39.871944, 42.212444, 41.411689, 36.124472, 35.214, 38.748697, 39.048836, 38.944533, 39.717331, 29.984433000000003, 41.978603, 33.942536, 40.788389, 33.434278000000006, 39.861655999999996, 37.618972, 37.3626, 33.675667, 47.449, 45.588722, 32.733556, 30.194528000000002, 37.721278000000005, 36.080056, 32.847111, 38.695417, 40.777245, 39.297606, 39.997972, 32.896828, 29.533694, 33.636719, 38.852083, 44.881956, 35.877639, 26.072582999999998, 29.993389, 39.175360999999995, 42.364346999999995, 40.491467, 40.6925, 27.975471999999996, 28.429394, 26.536167, 25.79325, null, 40.639751000000004, 29.645419, 41.785971999999994], \"locationmode\": \"USA-states\", \"lon\": [-75.241139, -83.353389, -81.84979399999999, -86.67819399999999, -80.943139, -90.370028, -84.667822, -77.455811, -86.294383, -95.341442, -87.904842, -118.408075, -111.977772, -112.011583, -104.67317800000001, -122.374889, -121.929022, -117.868222, -122.309306, -122.5975, -117.18966699999999, -97.669889, -122.220722, -115.15225, -96.851778, -121.590778, -73.872608, -94.71390500000001, -82.891889, -97.037997, -98.469778, -84.428067, -77.037722, -93.221767, -78.787472, -80.15275, -90.258028, -76.66833299999999, -71.00518100000001, -80.232872, -74.168667, -82.53325, -81.308994, -81.755167, -80.29055600000001, null, -73.778925, -95.278889, -87.75241700000001], \"marker\": {\"color\": \"rgb(0, 0, 0)\", \"line\": {\"color\": \"rgba(68, 68, 68, 0)\", \"width\": 3}, \"size\": 2}, \"mode\": \"markers\", \"text\": [\"Philadelphia International Airport\", \"Detroit Metropolitan Airport\", \"Cleveland Hopkins International Airport\", \"Nashville International Airport\", \"Charlotte Douglas International Airport\", \"St. Louis International Airport at Lambert Field\", \"Cincinnati/Northern Kentucky International Airport\", \"Washington Dulles International Airport\", \"Indianapolis International Airport\", \"George Bush Intercontinental Airport\", \"Chicago O'Hare International Airport\", \"Los Angeles International Airport\", \"Salt Lake City International Airport\", \"Phoenix Sky Harbor International Airport\", \"Denver International Airport\", \"San Francisco International Airport\", \"Norman Y. Mineta San Jos\\u00e9 International Airport\", \"John Wayne Airport\\u00a0(Orange County Airport)\", \"Seattle-Tacoma International Airport\", \"Portland International Airport\", \"San Diego International Airport\\u00a0(Lindbergh Field)\", \"Austin-Bergstrom International Airport\", \"Oakland International Airport\", \"McCarran International Airport\", \"Dallas Love Field\", \"Sacramento International Airport\", \"LaGuardia Airport (Marine Air Terminal)\", \"Kansas City International Airport\", \"Port Columbus International Airport\", \"Dallas/Fort Worth International Airport\", \"San Antonio International Airport\", \"Hartsfield-Jackson Atlanta International Airport\", \"Ronald Reagan Washington National Airport\", \"Minneapolis-Saint Paul International Airport\", \"Raleigh-Durham International Airport\", \"Fort Lauderdale-Hollywood International Airport\", \"Louis Armstrong New Orleans International Airport\", \"Baltimore-Washington International Airport\", \"Gen. Edward Lawrence Logan International Airport\", \"Pittsburgh International Airport\", \"Newark Liberty International Airport\", \"Tampa International Airport\", \"Orlando International Airport\", \"Southwest Florida International Airport\", \"Miami International Airport\", \"Luis Mu\\u00f1oz Mar\\u00edn International Airport\", \"John F. Kennedy International Airport\\u00a0(New York International Airport)\", \"William P. Hobby Airport\", \"Chicago Midway International Airport\"], \"type\": \"scattergeo\"}],\n",
              "                        {\"geo\": {\"countrycolor\": \"rgb(204, 204, 204)\", \"landcolor\": \"rgb(243, 243, 243)\", \"projection\": {\"type\": \"albers usa\"}, \"scope\": \"usa\", \"showland\": true}, \"showlegend\": false, \"template\": {\"data\": {\"bar\": [{\"error_x\": {\"color\": \"#2a3f5f\"}, \"error_y\": {\"color\": \"#2a3f5f\"}, \"marker\": {\"line\": {\"color\": \"#E5ECF6\", \"width\": 0.5}}, \"type\": \"bar\"}], \"barpolar\": [{\"marker\": {\"line\": {\"color\": \"#E5ECF6\", \"width\": 0.5}}, \"type\": \"barpolar\"}], \"carpet\": [{\"aaxis\": {\"endlinecolor\": \"#2a3f5f\", \"gridcolor\": \"white\", \"linecolor\": \"white\", \"minorgridcolor\": \"white\", \"startlinecolor\": \"#2a3f5f\"}, \"baxis\": {\"endlinecolor\": \"#2a3f5f\", \"gridcolor\": \"white\", \"linecolor\": \"white\", \"minorgridcolor\": \"white\", \"startlinecolor\": \"#2a3f5f\"}, \"type\": \"carpet\"}], \"choropleth\": [{\"colorbar\": {\"outlinewidth\": 0, \"ticks\": \"\"}, \"type\": \"choropleth\"}], \"contour\": [{\"colorbar\": {\"outlinewidth\": 0, \"ticks\": \"\"}, \"colorscale\": [[0.0, \"#0d0887\"], [0.1111111111111111, \"#46039f\"], [0.2222222222222222, \"#7201a8\"], [0.3333333333333333, \"#9c179e\"], [0.4444444444444444, \"#bd3786\"], [0.5555555555555556, \"#d8576b\"], [0.6666666666666666, \"#ed7953\"], [0.7777777777777778, \"#fb9f3a\"], [0.8888888888888888, \"#fdca26\"], [1.0, \"#f0f921\"]], \"type\": \"contour\"}], \"contourcarpet\": [{\"colorbar\": {\"outlinewidth\": 0, \"ticks\": \"\"}, \"type\": \"contourcarpet\"}], \"heatmap\": [{\"colorbar\": {\"outlinewidth\": 0, \"ticks\": \"\"}, \"colorscale\": [[0.0, \"#0d0887\"], [0.1111111111111111, \"#46039f\"], [0.2222222222222222, \"#7201a8\"], [0.3333333333333333, \"#9c179e\"], [0.4444444444444444, \"#bd3786\"], [0.5555555555555556, \"#d8576b\"], [0.6666666666666666, \"#ed7953\"], [0.7777777777777778, \"#fb9f3a\"], [0.8888888888888888, \"#fdca26\"], [1.0, \"#f0f921\"]], \"type\": \"heatmap\"}], \"heatmapgl\": [{\"colorbar\": {\"outlinewidth\": 0, \"ticks\": \"\"}, \"colorscale\": [[0.0, \"#0d0887\"], [0.1111111111111111, \"#46039f\"], [0.2222222222222222, \"#7201a8\"], [0.3333333333333333, \"#9c179e\"], [0.4444444444444444, \"#bd3786\"], [0.5555555555555556, \"#d8576b\"], [0.6666666666666666, \"#ed7953\"], [0.7777777777777778, \"#fb9f3a\"], [0.8888888888888888, \"#fdca26\"], [1.0, \"#f0f921\"]], \"type\": \"heatmapgl\"}], \"histogram\": [{\"marker\": {\"colorbar\": {\"outlinewidth\": 0, \"ticks\": \"\"}}, \"type\": \"histogram\"}], \"histogram2d\": [{\"colorbar\": {\"outlinewidth\": 0, \"ticks\": \"\"}, \"colorscale\": [[0.0, \"#0d0887\"], [0.1111111111111111, \"#46039f\"], [0.2222222222222222, \"#7201a8\"], [0.3333333333333333, \"#9c179e\"], [0.4444444444444444, \"#bd3786\"], [0.5555555555555556, \"#d8576b\"], [0.6666666666666666, \"#ed7953\"], [0.7777777777777778, \"#fb9f3a\"], [0.8888888888888888, \"#fdca26\"], [1.0, \"#f0f921\"]], \"type\": \"histogram2d\"}], \"histogram2dcontour\": [{\"colorbar\": {\"outlinewidth\": 0, \"ticks\": \"\"}, \"colorscale\": [[0.0, \"#0d0887\"], [0.1111111111111111, \"#46039f\"], [0.2222222222222222, \"#7201a8\"], [0.3333333333333333, \"#9c179e\"], [0.4444444444444444, \"#bd3786\"], [0.5555555555555556, \"#d8576b\"], [0.6666666666666666, \"#ed7953\"], [0.7777777777777778, \"#fb9f3a\"], [0.8888888888888888, \"#fdca26\"], [1.0, \"#f0f921\"]], \"type\": \"histogram2dcontour\"}], \"mesh3d\": [{\"colorbar\": {\"outlinewidth\": 0, \"ticks\": \"\"}, \"type\": \"mesh3d\"}], \"parcoords\": [{\"line\": {\"colorbar\": {\"outlinewidth\": 0, \"ticks\": \"\"}}, \"type\": \"parcoords\"}], \"pie\": [{\"automargin\": true, \"type\": \"pie\"}], \"scatter\": [{\"marker\": {\"colorbar\": {\"outlinewidth\": 0, \"ticks\": \"\"}}, \"type\": \"scatter\"}], \"scatter3d\": [{\"line\": {\"colorbar\": {\"outlinewidth\": 0, \"ticks\": \"\"}}, \"marker\": {\"colorbar\": {\"outlinewidth\": 0, \"ticks\": \"\"}}, \"type\": \"scatter3d\"}], \"scattercarpet\": [{\"marker\": {\"colorbar\": {\"outlinewidth\": 0, \"ticks\": \"\"}}, \"type\": \"scattercarpet\"}], \"scattergeo\": [{\"marker\": {\"colorbar\": {\"outlinewidth\": 0, \"ticks\": \"\"}}, \"type\": \"scattergeo\"}], \"scattergl\": [{\"marker\": {\"colorbar\": {\"outlinewidth\": 0, \"ticks\": \"\"}}, \"type\": \"scattergl\"}], \"scattermapbox\": [{\"marker\": {\"colorbar\": {\"outlinewidth\": 0, \"ticks\": \"\"}}, \"type\": \"scattermapbox\"}], \"scatterpolar\": [{\"marker\": {\"colorbar\": {\"outlinewidth\": 0, \"ticks\": \"\"}}, \"type\": \"scatterpolar\"}], \"scatterpolargl\": [{\"marker\": {\"colorbar\": {\"outlinewidth\": 0, \"ticks\": \"\"}}, \"type\": \"scatterpolargl\"}], \"scatterternary\": [{\"marker\": {\"colorbar\": {\"outlinewidth\": 0, \"ticks\": \"\"}}, \"type\": \"scatterternary\"}], \"surface\": [{\"colorbar\": {\"outlinewidth\": 0, \"ticks\": \"\"}, \"colorscale\": [[0.0, \"#0d0887\"], [0.1111111111111111, \"#46039f\"], [0.2222222222222222, \"#7201a8\"], [0.3333333333333333, \"#9c179e\"], [0.4444444444444444, \"#bd3786\"], [0.5555555555555556, \"#d8576b\"], [0.6666666666666666, \"#ed7953\"], [0.7777777777777778, \"#fb9f3a\"], [0.8888888888888888, \"#fdca26\"], [1.0, \"#f0f921\"]], \"type\": \"surface\"}], \"table\": [{\"cells\": {\"fill\": {\"color\": \"#EBF0F8\"}, \"line\": {\"color\": \"white\"}}, \"header\": {\"fill\": {\"color\": \"#C8D4E3\"}, \"line\": {\"color\": \"white\"}}, \"type\": \"table\"}]}, \"layout\": {\"annotationdefaults\": {\"arrowcolor\": \"#2a3f5f\", \"arrowhead\": 0, \"arrowwidth\": 1}, \"coloraxis\": {\"colorbar\": {\"outlinewidth\": 0, \"ticks\": \"\"}}, \"colorscale\": {\"diverging\": [[0, \"#8e0152\"], [0.1, \"#c51b7d\"], [0.2, \"#de77ae\"], [0.3, \"#f1b6da\"], [0.4, \"#fde0ef\"], [0.5, \"#f7f7f7\"], [0.6, \"#e6f5d0\"], [0.7, \"#b8e186\"], [0.8, \"#7fbc41\"], [0.9, \"#4d9221\"], [1, \"#276419\"]], \"sequential\": [[0.0, \"#0d0887\"], [0.1111111111111111, \"#46039f\"], [0.2222222222222222, \"#7201a8\"], [0.3333333333333333, \"#9c179e\"], [0.4444444444444444, \"#bd3786\"], [0.5555555555555556, \"#d8576b\"], [0.6666666666666666, \"#ed7953\"], [0.7777777777777778, \"#fb9f3a\"], [0.8888888888888888, \"#fdca26\"], [1.0, \"#f0f921\"]], \"sequentialminus\": [[0.0, \"#0d0887\"], [0.1111111111111111, \"#46039f\"], [0.2222222222222222, \"#7201a8\"], [0.3333333333333333, \"#9c179e\"], [0.4444444444444444, \"#bd3786\"], [0.5555555555555556, \"#d8576b\"], [0.6666666666666666, \"#ed7953\"], [0.7777777777777778, \"#fb9f3a\"], [0.8888888888888888, \"#fdca26\"], [1.0, \"#f0f921\"]]}, \"colorway\": [\"#636efa\", \"#EF553B\", \"#00cc96\", \"#ab63fa\", \"#FFA15A\", \"#19d3f3\", \"#FF6692\", \"#B6E880\", \"#FF97FF\", \"#FECB52\"], \"font\": {\"color\": \"#2a3f5f\"}, \"geo\": {\"bgcolor\": \"white\", \"lakecolor\": \"white\", \"landcolor\": \"#E5ECF6\", \"showlakes\": true, \"showland\": true, \"subunitcolor\": \"white\"}, \"hoverlabel\": {\"align\": \"left\"}, \"hovermode\": \"closest\", \"mapbox\": {\"style\": \"light\"}, \"paper_bgcolor\": \"white\", \"plot_bgcolor\": \"#E5ECF6\", \"polar\": {\"angularaxis\": {\"gridcolor\": \"white\", \"linecolor\": \"white\", \"ticks\": \"\"}, \"bgcolor\": \"#E5ECF6\", \"radialaxis\": {\"gridcolor\": \"white\", \"linecolor\": \"white\", \"ticks\": \"\"}}, \"scene\": {\"xaxis\": {\"backgroundcolor\": \"#E5ECF6\", \"gridcolor\": \"white\", \"gridwidth\": 2, \"linecolor\": \"white\", \"showbackground\": true, \"ticks\": \"\", \"zerolinecolor\": \"white\"}, \"yaxis\": {\"backgroundcolor\": \"#E5ECF6\", \"gridcolor\": \"white\", \"gridwidth\": 2, \"linecolor\": \"white\", \"showbackground\": true, \"ticks\": \"\", \"zerolinecolor\": \"white\"}, \"zaxis\": {\"backgroundcolor\": \"#E5ECF6\", \"gridcolor\": \"white\", \"gridwidth\": 2, \"linecolor\": \"white\", \"showbackground\": true, \"ticks\": \"\", \"zerolinecolor\": \"white\"}}, \"shapedefaults\": {\"line\": {\"color\": \"#2a3f5f\"}}, \"ternary\": {\"aaxis\": {\"gridcolor\": \"white\", \"linecolor\": \"white\", \"ticks\": \"\"}, \"baxis\": {\"gridcolor\": \"white\", \"linecolor\": \"white\", \"ticks\": \"\"}, \"bgcolor\": \"#E5ECF6\", \"caxis\": {\"gridcolor\": \"white\", \"linecolor\": \"white\", \"ticks\": \"\"}}, \"title\": {\"x\": 0.05}, \"xaxis\": {\"automargin\": true, \"gridcolor\": \"white\", \"linecolor\": \"white\", \"ticks\": \"\", \"title\": {\"standoff\": 15}, \"zerolinecolor\": \"white\", \"zerolinewidth\": 2}, \"yaxis\": {\"automargin\": true, \"gridcolor\": \"white\", \"linecolor\": \"white\", \"ticks\": \"\", \"title\": {\"standoff\": 15}, \"zerolinecolor\": \"white\", \"zerolinewidth\": 2}}}, \"title\": {\"text\": \"Routes with an average delay of more than 10 minutes (2020-11 to 2021-02)\"}},\n",
              "                        {\"responsive\": true}\n",
              "                    ).then(function(){\n",
              "                            \n",
              "var gd = document.getElementById('e3898313-2d14-48ba-8c23-9cd0a2f05c1c');\n",
              "var x = new MutationObserver(function (mutations, observer) {{\n",
              "        var display = window.getComputedStyle(gd).display;\n",
              "        if (!display || display === 'none') {{\n",
              "            console.log([gd, 'removed!']);\n",
              "            Plotly.purge(gd);\n",
              "            observer.disconnect();\n",
              "        }}\n",
              "}});\n",
              "\n",
              "// Listen for the removal of the full notebook cells\n",
              "var notebookContainer = gd.closest('#notebook-container');\n",
              "if (notebookContainer) {{\n",
              "    x.observe(notebookContainer, {childList: true});\n",
              "}}\n",
              "\n",
              "// Listen for the clearing of the current output cell\n",
              "var outputEl = gd.closest('.output');\n",
              "if (outputEl) {{\n",
              "    x.observe(outputEl, {childList: true});\n",
              "}}\n",
              "\n",
              "                        })\n",
              "                };\n",
              "                \n",
              "            </script>\n",
              "        </div>\n",
              "</body>\n",
              "</html>"
            ]
          },
          "metadata": {
            "tags": []
          }
        },
        {
          "output_type": "execute_result",
          "data": {
            "application/vnd.google.colaboratory.intrinsic+json": {
              "type": "string"
            },
            "text/plain": [
              "'CodeFiles/d3-flight-paths.html'"
            ]
          },
          "metadata": {
            "tags": []
          },
          "execution_count": 115
        }
      ]
    }
  ]
}