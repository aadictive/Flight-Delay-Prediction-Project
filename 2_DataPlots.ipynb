{
  "nbformat": 4,
  "nbformat_minor": 0,
  "metadata": {
    "colab": {
      "name": "2_DataPlots.ipynb",
      "provenance": [],
      "collapsed_sections": [],
      "mount_file_id": "10cy3bMtRdz9EQZgCs-7yOJKIvEzHUV41",
      "authorship_tag": "ABX9TyMjVAJTLKeWxTX6VpVlvBkp"
    },
    "kernelspec": {
      "name": "python3",
      "display_name": "Python 3"
    },
    "language_info": {
      "name": "python"
    }
  },
  "cells": [
    {
      "cell_type": "code",
      "metadata": {
        "id": "u5WokRYCwvnG"
      },
      "source": [
        "import os\n",
        "import pandas as pd\n",
        "import numpy as np\n",
        "\n",
        "os.chdir(\"/content/drive/MyDrive/Projects/Flight_Delay_Predict_Project\") #Default Project directory\n",
        "df = pd.read_csv('CodeFiles/Full_airline_data.csv')\n",
        "\n",
        "#Get the list of the 10 biggest Airline Carriers\n",
        "top10_carrier = list(df['OP_CARRIER'].value_counts().head(10).index)\n",
        "\n",
        "#Read the Carrier Key CSV file for full names of the Airlines\n",
        "carrier_key = pd.read_csv('data/airline/airlines.csv')"
      ],
      "execution_count": null,
      "outputs": []
    },
    {
      "cell_type": "code",
      "metadata": {
        "id": "z7Fw4RkxxKBk"
      },
      "source": [
        "#Visualize the POSITIVE_ARR_DELAYS for top 10 airlines \n",
        "\n",
        "#Get the list of the 10 biggest Airline Carriers\n",
        "df_sub = df[df['OP_CARRIER'].isin(top10_carrier)][['OP_CARRIER','DEP_HOUR','ARR_DELAY']].copy()\n",
        "\n",
        "#Since we are considering only flight delays, we ignore early landings\n",
        "#ARR_DELAY < 0 means the flight landed before its CRS_ARR_TIME\n",
        "df_sub['ARR_DELAY'] = df_sub['ARR_DELAY'].apply(lambda x:0 if x<0 else x)\n",
        "\n",
        "#Merge the airline names\n",
        "df_sub = pd.merge(df_sub,carrier_key,how='left',left_on='OP_CARRIER', right_on='IATA_CODE')\n",
        "df_sub.drop(['OP_CARRIER','IATA_CODE'],axis=1,inplace=True)"
      ],
      "execution_count": null,
      "outputs": []
    },
    {
      "cell_type": "code",
      "metadata": {
        "id": "lRqXhVOaxLEQ"
      },
      "source": [
        "#Create an numpy array to store the averaged carrier delays\n",
        "arr_delay = np.ndarray(shape=(10,25)) #1 for each hour of the day, and 1 for daily averages\n",
        "\n",
        "#Mean delay (daily average)\n",
        "df_mean = df_sub[['ARR_DELAY','AIRLINE']].groupby('AIRLINE').mean().reset_index()\n",
        "# df_mean = pd.merge(df_mean,carrier_key,how='left',on='IATA_CODE')\n",
        "\n",
        "arr_delay[:,24] = np.array(df_mean['ARR_DELAY'])\n",
        "\n",
        "#delays grouped by Departure Hour\n",
        "df_hourly = df_sub.groupby(by=['AIRLINE','DEP_HOUR']).mean()['ARR_DELAY'].unstack()\n",
        "df_hourly.fillna(0,inplace=True)\n",
        "arr_delay[:,0:24]=np.array(df_hourly)\n",
        "\n",
        "arr_delay = arr_delay*2.0"
      ],
      "execution_count": null,
      "outputs": []
    },
    {
      "cell_type": "code",
      "metadata": {
        "id": "SQ_A0AUZxNj0"
      },
      "source": [
        "###  Interaction in Bokeh charts using widgets\n",
        "\n",
        "from bokeh.models import  Callback, ColumnDataSource, Rect,CustomJS, LabelSet, Column\n",
        "from bokeh.plotting import figure, output_file, show, gridplot\n",
        "from bokeh.layouts import row, column,widgetbox\n",
        "from bokeh.models import CustomJS, Slider, Select\n",
        "import numpy as np\n",
        "from math import pi\n",
        "\n",
        "\n",
        "#data\n",
        "carrier = df_mean['AIRLINE'].tolist()\n",
        "ages_gen = '0 1 2 3 4 5 6 7 8 9 10 11 12 13 14 15 16 17 18 19 20 21 22 23 24'.split()\n",
        "\n",
        "#source for callback\n",
        "source = ColumnDataSource(data=dict(x=carrier, y = np.zeros(10),height = arr_delay[:,24], \n",
        "                                     height0 = arr_delay[:,0],\n",
        "                                     height1 = arr_delay[:,1],\n",
        "                                     height2 = arr_delay[:,2],\n",
        "                                     height3 = arr_delay[:,3],\n",
        "                                     height4 = arr_delay[:,4],\n",
        "                                     height5 = arr_delay[:,5],\n",
        "                                     height6 = arr_delay[:,6],\n",
        "                                     height7 = arr_delay[:,7],\n",
        "                                     height8 = arr_delay[:,8],\n",
        "                                     height9 = arr_delay[:,9],\n",
        "                                     height10 = arr_delay[:,10],\n",
        "                                     height11 = arr_delay[:,11],\n",
        "                                     height12 = arr_delay[:,12],\n",
        "                                     height13 = arr_delay[:,13],\n",
        "                                     height14 = arr_delay[:,14],\n",
        "                                     height15 = arr_delay[:,15],\n",
        "                                     height16 = arr_delay[:,16],\n",
        "                                     height17 = arr_delay[:,17],\n",
        "                                     height18 = arr_delay[:,18],\n",
        "                                     height19 = arr_delay[:,19],\n",
        "                                     height20 = arr_delay[:,20],\n",
        "                                     height21 = arr_delay[:,21],\n",
        "                                     height22 = arr_delay[:,22],\n",
        "                                     height23 = arr_delay[:,23],\n",
        "                                     height24 = arr_delay[:,24]))\n",
        "\n",
        "source2 = ColumnDataSource(data=dict(title=[\"Daily Average\"],h1 = [\"Hourly\"],h2 = [\"Daily Average\"]))\n",
        "\n",
        "\n",
        "#Javascript Callbacks for Departure Hour\n",
        "Callback_Hour = CustomJS(args={'source1': source,'source2':source2}, code=\"\"\"\n",
        "        var f = cb_obj.get('value');\n",
        "        var data1 = source1.get('data');\n",
        "        var data2 = source2.get('data');\n",
        "        \n",
        "        data1['height'] = data1['height'+f.toString()];\n",
        "        source1.trigger('change');\n",
        "        \n",
        "        var f = cb_obj.get('value');\n",
        "        if (f==24){\n",
        "            data2['title'] = data2['h2'];\n",
        "            source2.trigger('change');\n",
        "            }\n",
        "        else {\n",
        "            data2['title'] = data2['h1'];\n",
        "            source2.trigger('change');\n",
        "            }\n",
        "    \"\"\")\n",
        "\n",
        "#Figure for Stacked bar chart\n",
        "p1 = figure(title=\"Average flight delay\", \n",
        "            x_range=carrier, y_range=[0, 30],\n",
        "            plot_width=600, plot_height = 350,\n",
        "            outline_line_color= None,\n",
        "            toolbar_location='above')\n",
        "p1.background_fill_color = '#e3e0db' \n",
        "p1.xaxis.major_label_orientation = pi/4\n",
        "p1.xaxis.axis_label = 'Airline Carrier'\n",
        "p1.yaxis.axis_label = 'Average Delay'\n",
        "\n",
        "\n",
        "#Create Barchart using rect glyphs\n",
        "p1.rect(x ='x', y ='y', width =.8, height = 'height', source = source, color=\"#720017\", alpha=0.95, name = \"Airline Delay\")\n",
        "#Create label \n",
        "labels = LabelSet(x=0, y=0, text='title', level='glyph',x_offset=35, y_offset=170, source=source2, render_mode='canvas')\n",
        "p1.add_layout(labels)\n",
        "\n",
        "#Create the slider\n",
        "hour_slider = Slider(start=0, end=24, value=24, step=1,title=\"Departure Hour\")\n",
        "hour_slider.js_on_change('value', Callback_Hour)\n",
        "#Alternately:\n",
        "#hour_slider = Select(title=\"Departure Hour:\", value=ages_gen[24], options= ages_gen)\n",
        "\n",
        "layout = column(p1,Column(hour_slider))\n",
        "output_file(\"slider.html\", title=\"slider.py example\")\n",
        "\n",
        "show(layout)"
      ],
      "execution_count": null,
      "outputs": []
    },
    {
      "cell_type": "code",
      "metadata": {
        "colab": {
          "base_uri": "https://localhost:8080/"
        },
        "id": "BT3h5rklcG1q",
        "outputId": "7547c574-dbf6-4858-a480-f654bf9f2195"
      },
      "source": [
        "###  Interaction in Bokeh charts using widgets\n",
        "\n",
        "from bokeh.models import  Callback, ColumnDataSource, Rect,CustomJS, LabelSet\n",
        "from bokeh.plotting import figure, output_file, show, gridplot\n",
        "from bokeh.layouts import row, column,widgetbox\n",
        "from bokeh.models import CustomJS, Slider, Select\n",
        "import numpy as np\n",
        "from math import pi\n",
        "\n",
        "\n",
        "#data\n",
        "carrier = df_mean['AIRLINE'].tolist()\n",
        "ages_gen = '0 1 2 3 4 5 6 7 8 9 10 11 12 13 14 15 16 17 18 19 20 21 22 23 24'.split()\n",
        "\n",
        "#source for callback\n",
        "source = ColumnDataSource(data=dict(x=carrier, y = np.zeros(10),height = arr_delay[:,24], \n",
        "                                     height0 = arr_delay[:,0],\n",
        "                                     height1 = arr_delay[:,1],\n",
        "                                     height2 = arr_delay[:,2],\n",
        "                                     height3 = arr_delay[:,3],\n",
        "                                     height4 = arr_delay[:,4],\n",
        "                                     height5 = arr_delay[:,5],\n",
        "                                     height6 = arr_delay[:,6],\n",
        "                                     height7 = arr_delay[:,7],\n",
        "                                     height8 = arr_delay[:,8],\n",
        "                                     height9 = arr_delay[:,9],\n",
        "                                     height10 = arr_delay[:,10],\n",
        "                                     height11 = arr_delay[:,11],\n",
        "                                     height12 = arr_delay[:,12],\n",
        "                                     height13 = arr_delay[:,13],\n",
        "                                     height14 = arr_delay[:,14],\n",
        "                                     height15 = arr_delay[:,15],\n",
        "                                     height16 = arr_delay[:,16],\n",
        "                                     height17 = arr_delay[:,17],\n",
        "                                     height18 = arr_delay[:,18],\n",
        "                                     height19 = arr_delay[:,19],\n",
        "                                     height20 = arr_delay[:,20],\n",
        "                                     height21 = arr_delay[:,21],\n",
        "                                     height22 = arr_delay[:,22],\n",
        "                                     height23 = arr_delay[:,23],\n",
        "                                     height24 = arr_delay[:,24]))\n",
        "\n",
        "source2 = ColumnDataSource(data=dict(title=[\"Daily Average\"],h1 = [\"Hourly\"],h2 = [\"Daily Average\"]))\n",
        "\n",
        "\n",
        "#Javascript Callbacks for Departure Hour\n",
        "Callback_Hour = CustomJS(args={'source1': source,'source2':source2}, code=\"\"\"\n",
        "        var f = cb_obj.get('value');\n",
        "        var data1 = source1.get('data');\n",
        "        var data2 = source2.get('data');\n",
        "        \n",
        "        data1['height'] = data1['height'+f.toString()];\n",
        "        source1.trigger('change');\n",
        "        \n",
        "        var f = cb_obj.get('value');\n",
        "        if (f==24){\n",
        "            data2['title'] = data2['h2'];\n",
        "            source2.trigger('change');\n",
        "            }\n",
        "        else {\n",
        "            data2['title'] = data2['h1'];\n",
        "            source2.trigger('change');\n",
        "            }\n",
        "    \"\"\")\n",
        "\n",
        "#Figure for Stacked bar chart\n",
        "p1 = figure(title=\"Average flight delay\", \n",
        "            x_range=carrier, y_range=[0, 30],\n",
        "            plot_width=600, plot_height = 350,\n",
        "            outline_line_color= None,\n",
        "            toolbar_location='above')\n",
        "p1.background_fill_color = '#e3e0db' \n",
        "p1.xaxis.major_label_orientation = pi/4\n",
        "p1.xaxis.axis_label = 'Airline Carrier'\n",
        "p1.yaxis.axis_label = 'Average Delay'\n",
        "\n",
        "\n",
        "#Create Barchart using rect glyphs\n",
        "p1.rect(x ='x', y ='y', width =.8, height = 'height', source = source, color=\"#720017\", alpha=0.95, name = \"Airline Delay\")\n",
        "#Create label \n",
        "labels = LabelSet(x=0, y=0, text='title', level='glyph',x_offset=35, y_offset=170, source=source2, render_mode='canvas')\n",
        "p1.add_layout(labels)\n",
        "\n",
        "#Create the slider\n",
        "hour_slider = Slider(start=0, end=24, value=24, step=1,title=\"Departure Hour\")\n",
        "hour_slider.js_on_change(\"value\",Callback_Hour)\n",
        "#Alternately:\n",
        "#hour_slider = Select(title=\"Departure Hour:\", value=ages_gen[24], options= ages_gen,  callback = Callback_Hour)\n",
        "\n",
        "layout = column(p1,column(hour_slider))\n",
        "output_file(\"slider2.html\", title=\"slider.py example\")\n",
        "print(\"Done\")\n",
        "\n",
        "show(layout)"
      ],
      "execution_count": null,
      "outputs": [
        {
          "output_type": "stream",
          "text": [
            "Done\n"
          ],
          "name": "stdout"
        }
      ]
    },
    {
      "cell_type": "code",
      "metadata": {
        "colab": {
          "base_uri": "https://localhost:8080/"
        },
        "id": "Ka_vz2dbzqma",
        "outputId": "2f04beeb-e90e-4dd1-d692-9802273a2818"
      },
      "source": [
        "#Create the javascript code and script tag to embed in the blog\n",
        "from bokeh.resources import CDN\n",
        "from bokeh.embed import autoload_static\n",
        "\n",
        "js, tag = autoload_static(layout, CDN, \"bokeh_js/interact_barchart_select.js\")\n",
        "\n",
        "f = open( 'interact_barchart_select.js', 'w' )\n",
        "f.write(js)\n",
        "f.close()\n",
        "print(tag)"
      ],
      "execution_count": null,
      "outputs": [
        {
          "output_type": "stream",
          "text": [
            "\n",
            "<script src=\"bokeh_js/interact_barchart_select.js\" id=\"dce27546-4df5-4d55-9c68-307297d48636\"></script>\n"
          ],
          "name": "stdout"
        }
      ]
    },
    {
      "cell_type": "code",
      "metadata": {
        "id": "DJ1UAnP89O2V"
      },
      "source": [
        "df_sub = df[['OP_CARRIER','DAY_OF_WEEK','DEP_HOUR','ARR_DELAY']]\n",
        "\n",
        "#Remove datapoints which have erroneous DAY_OF_WEEK\n",
        "df_sub = df_sub.drop(df_sub[df_sub['DAY_OF_WEEK']==9].index) \n",
        "#Since we are considering only flight delays, we ignore early landings\n",
        "#ARR_DELAY < 0 means the flight landed before its CRS_ARR_TIME\n",
        "df_sub['ARR_DELAY'] = df_sub['ARR_DELAY'].apply(lambda x:0 if x<0 else x)"
      ],
      "execution_count": null,
      "outputs": []
    },
    {
      "cell_type": "code",
      "metadata": {
        "id": "NKUJQQ7u9S6E"
      },
      "source": [
        "#Get the list of the 10 biggest Airline Carriers\n",
        "top10_carrier = pd.DataFrame(df_sub['OP_CARRIER'].value_counts().head(10))\n",
        "top10_carrier.reset_index(inplace=True)\n",
        "top10_carrier.rename(index=str, columns={\"index\": \"IATA\"},inplace=True)"
      ],
      "execution_count": null,
      "outputs": []
    },
    {
      "cell_type": "code",
      "metadata": {
        "id": "UOlCk3sH9hB9"
      },
      "source": [
        "#Load the L_UNIQUE_CARRIERS.csv for the full names of the IATA codes\n",
        "carrier_key = pd.read_csv('airlines.csv')\n",
        "carrier_key.rename(index=str, columns={\"IATA_CODE\": \"IATA\"},inplace=True)\n",
        "\n",
        "#Merge with the dataframe containing the 10 biggest Airline Carriers\n",
        "top10_carrier = pd.merge(top10_carrier,carrier_key,how='left',on='IATA')"
      ],
      "execution_count": null,
      "outputs": []
    },
    {
      "cell_type": "code",
      "metadata": {
        "id": "GPd4D7-r9xFC"
      },
      "source": [
        "import holoviews as hv\n",
        "from holoviews import dim, opts\n",
        "#from bokeh.charts import HeatMap\n",
        "from bokeh.io import output_file, show\n",
        "from bokeh.palettes import OrRd9\n",
        "from bokeh.models import Range1d, LinearColorMapper, ColorBar\n",
        "from bokeh.models.widgets import Panel, Tabs"
      ],
      "execution_count": null,
      "outputs": []
    },
    {
      "cell_type": "code",
      "metadata": {
        "id": "gZvb4kP3-LPF"
      },
      "source": [
        "def create_heatmap(df_sub, desc='Average Flight Delays'):\n",
        "    dayHour = df_sub.groupby(by=['DAY_OF_WEEK','DEP_HOUR']).mean()\n",
        "    dayHour.reset_index(inplace=True)\n",
        "    \n",
        "    dayHour['DAY_OF_WEEK'].replace(1,'Monday',inplace=True)\n",
        "    dayHour['DAY_OF_WEEK'].replace(2,'Tuesday',inplace=True)\n",
        "    dayHour['DAY_OF_WEEK'].replace(3,'Wednesday',inplace=True)\n",
        "    dayHour['DAY_OF_WEEK'].replace(4,'Thursday',inplace=True)\n",
        "    dayHour['DAY_OF_WEEK'].replace(5,'Friday',inplace=True)\n",
        "    dayHour['DAY_OF_WEEK'].replace(6,'Saturday',inplace=True)\n",
        "    dayHour['DAY_OF_WEEK'].replace(7,'Sunday',inplace=True)\n",
        "    \n",
        "    dayHour['ARR_DELAY'] = dayHour['ARR_DELAY'].apply(lambda x:30 if x>30 else x)\n",
        "    df_cali = pd.DataFrame([['Monday',24, 0], ['Sunday',24, 30]], columns=('DAY_OF_WEEK','DEP_HOUR','ARR_DELAY'))\n",
        "    dayHour = dayHour.append(df_cali)\n",
        "    \n",
        "    hm = hv.HeatMap(dayHour, y='DAY_OF_WEEK', x='DEP_HOUR', values='ARR_DELAY', stat=None,\n",
        "             width=600, plot_height=330, palette=OrRd9, ylabel='Day of the Week', xlabel='Departure Hour',\n",
        "             legend = False,\n",
        "             title= desc, toolbar_location='above')\n",
        "    hm.x_range = Range1d(0, 23)\n",
        "    \n",
        "    #Add the Colorbar. Its a bit complicated in Bokeh\n",
        "    Invert_OrRd9 = OrRd9[::-1]\n",
        "    color_mapper = LinearColorMapper(palette=Invert_OrRd9, low=0, high=30)\n",
        "\n",
        "    color_bar = ColorBar(color_mapper=color_mapper, label_standoff=12, location=(0,0))\n",
        "    hm.add_layout(color_bar, 'right')\n",
        "    \n",
        "    return hm\n",
        "\n",
        "def create_tab(df_sub,k):\n",
        "    hm = create_heatmap(df_sub[df_sub['UNIQUE_CARRIER']==top10_carrier['IATA'][k-1]],desc = top10_carrier['Description'][k-1])\n",
        "    tab = Panel(child=hm, title=top10_carrier['IATA'][k-1])\n",
        "    return tab\n",
        "\n",
        "#Create 11 heatmaps, 1 for all flights, and 10 each for the 10 biggest airlines\n",
        "hm = create_heatmap(df_sub)\n",
        "tab0 = Panel(child=hm, title=\"Overall\")\n",
        "\n",
        "tab1 = create_tab(df_sub,1)\n",
        "tab2 = create_tab(df_sub,2)\n",
        "tab3 = create_tab(df_sub,3)\n",
        "tab4 = create_tab(df_sub,4)\n",
        "tab5 = create_tab(df_sub,5)\n",
        "tab6 = create_tab(df_sub,6)\n",
        "tab7 = create_tab(df_sub,7)\n",
        "tab8 = create_tab(df_sub,8)\n",
        "tab9 = create_tab(df_sub,9)\n",
        "tab10 = create_tab(df_sub,10)"
      ],
      "execution_count": null,
      "outputs": []
    }
  ]
}