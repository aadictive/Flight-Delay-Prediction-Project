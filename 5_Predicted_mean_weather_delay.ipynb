{
  "nbformat": 4,
  "nbformat_minor": 0,
  "metadata": {
    "colab": {
      "name": "5_Predicted_mean_weather_delay.ipynb",
      "provenance": [],
      "mount_file_id": "1eNOUezDWbZXnNw0JXGakWQX0fSNkhI4e",
      "authorship_tag": "ABX9TyMyY4LRAJej5bVBmzYoQXKJ"
    },
    "kernelspec": {
      "name": "python3",
      "display_name": "Python 3"
    },
    "language_info": {
      "name": "python"
    }
  },
  "cells": [
    {
      "cell_type": "markdown",
      "metadata": {
        "id": "ceJ37JDVtRyO"
      },
      "source": [
        "# Flight Delay Prediction Project\n",
        "\n",
        "## Part 4: Discounting weather from Historical Arrival Delays\n",
        "\n",
        "Our model has been trained to predict ARR_DELAY given flight features (OP_CARRIER, ORIGIN, DESTINATION, etc) and weather features (PRECIP, WIND_SPEED, VISIBILITY, etc)\n",
        "\n",
        "To discount the effect of weather on historical delays, we predict ARR_DELAY for each flight with the mean weather of the origin and destination airport."
      ]
    },
    {
      "cell_type": "code",
      "metadata": {
        "id": "Lrmh_4FrLV8-",
        "colab": {
          "base_uri": "https://localhost:8080/"
        },
        "outputId": "52bf5c0d-7689-4860-9c68-84bc14a8a13f"
      },
      "source": [
        "import os\n",
        "import pandas as pd\n",
        "import numpy as np\n",
        "import time\n",
        "from sklearn.externals import joblib\n",
        "\n",
        "\n",
        "os.chdir(\"/content/drive/MyDrive/Projects/Flight_Delay_Predict_Project/CodeFiles\") #Default Project directory"
      ],
      "execution_count": null,
      "outputs": [
        {
          "output_type": "stream",
          "text": [
            "/usr/local/lib/python3.7/dist-packages/sklearn/externals/joblib/__init__.py:15: FutureWarning: sklearn.externals.joblib is deprecated in 0.21 and will be removed in 0.23. Please import this functionality directly from joblib, which can be installed with: pip install joblib. If this warning is raised when loading pickled models, you may need to re-serialize those models with scikit-learn 0.21+.\n",
            "  warnings.warn(msg, category=FutureWarning)\n"
          ],
          "name": "stderr"
        }
      ]
    },
    {
      "cell_type": "code",
      "metadata": {
        "colab": {
          "base_uri": "https://localhost:8080/"
        },
        "id": "tA_UkKd9Ljd7",
        "outputId": "3b791209-a167-41fb-e4b4-4f7aeced4647"
      },
      "source": [
        "tic = time.time()\n",
        "\n",
        "#PREPARE DF FOR PREDICTION WITH MEAN CLIMATE\n",
        "df = pd.read_csv('Airline+Weather_data.csv')\n",
        "\n",
        "toc = time.time()\n",
        "print(\"Finished reading CSV file in \" + str(toc-tic) + \" seconds\")"
      ],
      "execution_count": null,
      "outputs": [
        {
          "output_type": "stream",
          "text": [
            "Finished reading CSV file in 3.961743116378784 seconds\n"
          ],
          "name": "stdout"
        }
      ]
    },
    {
      "cell_type": "code",
      "metadata": {
        "colab": {
          "base_uri": "https://localhost:8080/"
        },
        "id": "ubmTCq6YLkO0",
        "outputId": "5ddebb1b-218e-4a1a-9269-5d890840e823"
      },
      "source": [
        "#Prepare the data\n",
        "tic = time.time()\n",
        "\n",
        "#Drop Variables which do not have correlation with arrival delays/cannot be predicted until the flight\n",
        "df.drop(['YEAR','DAY_OF_MONTH','CRS_DEP_TIME','DEP_TIME','DEP_DELAY','CRS_ARR_TIME','ARR_TIME','ACTUAL_ELAPSED_TIME','AIR_TIME','DEP_AVG_HourlyVisibility','DEP_AVG_HourlyDryBulbTemperature','DEP_AVG_HourlyWindSpeed','DEP_AVG_HourlyPrecipitation','ARR_AVG_HourlyVisibility','ARR_AVG_HourlyDryBulbTemperature','ARR_AVG_HourlyWindSpeed','ARR_AVG_HourlyPrecipitation'],axis=1, inplace=True)\n",
        "#Remove data redundancy\n",
        "df['ARR_HOUR'] = df['ARR_HOUR'].apply(lambda x:0 if x == 24 else x)\n",
        "#Drop rows with Null Values\n",
        "df.dropna(inplace=True)\n",
        "\n",
        "#Convert to Dummy Variables\n",
        "df = pd.concat([df,pd.get_dummies(df['MONTH'],drop_first=True,prefix=\"MONTH\")],axis=1)\n",
        "df = pd.concat([df,pd.get_dummies(df['DAY_OF_WEEK'],drop_first=True,prefix=\"DAY_OF_WEEK\")],axis=1)\n",
        "df = pd.concat([df,pd.get_dummies(df['OP_CARRIER'],drop_first=True,prefix=\"OP_CARRIER\")],axis=1)\n",
        "df = pd.concat([df,pd.get_dummies(df['ORIGIN'],drop_first=True,prefix=\"ORIGIN\")],axis=1)\n",
        "df = pd.concat([df,pd.get_dummies(df['DEST'],drop_first=True,prefix=\"DEST\")],axis=1)\n",
        "df = pd.concat([df,pd.get_dummies(df['DEP_HOUR'],drop_first=True,prefix=\"DEP_HOUR\")],axis=1)\n",
        "df = pd.concat([df,pd.get_dummies(df['ARR_HOUR'],drop_first=True,prefix=\"ARR_HOUR\")],axis=1)\n",
        "\n",
        "#Extra columns to be kept are: ARR_DELAY,DAY_OF_WEEK,UNIQUE_CARRIER,DEP_HOUR\n",
        "df.drop(['MONTH','ORIGIN','DEST','ARR_HOUR'],axis=1,inplace=True)\n",
        "\n",
        "toc = time.time()\n",
        "print(\"Finished preparing data in \" + str(toc-tic) + \" seconds\")"
      ],
      "execution_count": null,
      "outputs": [
        {
          "output_type": "stream",
          "text": [
            "Finished preparing data in 2.2565112113952637 seconds\n"
          ],
          "name": "stdout"
        }
      ]
    },
    {
      "cell_type": "code",
      "metadata": {
        "colab": {
          "base_uri": "https://localhost:8080/"
        },
        "id": "OJ_0Xr-5L6Q8",
        "outputId": "81cfe2f9-ab09-459e-9d19-fa03355ab0b0"
      },
      "source": [
        "tic =time.time()\n",
        "\n",
        "n = df.shape[0]  # number of rows\n",
        "batch_size = 1000000  # number of rows in each call to partial_fit\n",
        "index = 0  # helper-var\n",
        "df_predicted = pd.DataFrame()\n",
        "\n",
        "lm = joblib.load('linearmodel.pkl') \n",
        "\n",
        "while index < n:\n",
        "    partial_size = min(batch_size, n - index)  # needed because last loop is possibly incomplete\n",
        "    \n",
        "    df_predict = df[index:index+partial_size][['ARR_DELAY','DAY_OF_WEEK','OP_CARRIER','DEP_HOUR']]\n",
        "    \n",
        "    X = df[index:index+partial_size].drop(['ARR_DELAY','DAY_OF_WEEK','OP_CARRIER','DEP_HOUR'],axis=1)\n",
        "    \n",
        "    #Predict Delay in minutes (for all flights)\n",
        "    predictions = lm.predict(X)\n",
        "    df_predict['PREDICTED_ARR_DELAY']=[np.exp(p) for p in predictions]\n",
        "\n",
        "    \n",
        "    #Do the Logistic Regression to decide if flight was greater than 5 min late or not\n",
        "    n_models = 10 #Number of models to average over\n",
        "    df_predict['PREDICTED_DELAY_YN'] = np.zeros(len(df_predict.index))\n",
        "    \n",
        "    for i in range(n_models):\n",
        "        logmodel = joblib.load(str(i)+'_logmodel.pkl') \n",
        "        df_predict['PREDICTED_DELAY_YN'] = df_predict['PREDICTED_DELAY_YN'] + logmodel.predict_proba(X)[:,1]\n",
        "    \n",
        "    #Take mean of probability of getting DELAY_YN = 1(i.e. Delay greater than 5 min) from all the models\n",
        "    df_predict['PREDICTED_DELAY_YN'] = df_predict['PREDICTED_DELAY_YN']/n_models\n",
        "    df_predict['PREDICTED_DELAY_YN'] = df_predict['PREDICTED_DELAY_YN'].apply(lambda x:1 if x>0.46 else 0) #Take 0.46 as threshold\n",
        "   \n",
        "    #If Logistic Regression predicts DELAY_YN = 0, then PREDICTED_ARR_DELAY = 0\n",
        "    df_predict['PREDICTED_ARR_DELAY'] = df_predict['PREDICTED_ARR_DELAY'].multiply(df_predict['PREDICTED_DELAY_YN'])\n",
        "    df_predict['ARR_DELAY'] = df_predict['ARR_DELAY'].apply(lambda x:x if x>=5 else 0)\n",
        "\n",
        "    df_predicted = df_predicted.append(df_predict)\n",
        "    del df_predict\n",
        "\n",
        "    index += partial_size    \n",
        "df_predicted.to_csv('predicted_data.csv',index=False)\n",
        "\n",
        "toc = time.time()\n",
        "print(\"Finished prediction in \" + str(toc-tic) + \" seconds\")"
      ],
      "execution_count": null,
      "outputs": [
        {
          "output_type": "stream",
          "text": [
            "Finished prediction in 9.137588500976562 seconds\n"
          ],
          "name": "stdout"
        }
      ]
    }
  ]
}