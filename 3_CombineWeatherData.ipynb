{
  "nbformat": 4,
  "nbformat_minor": 0,
  "metadata": {
    "colab": {
      "name": "3_CombineWeatherData",
      "provenance": [],
      "toc_visible": true,
      "mount_file_id": "1DliU5TR-gY2oLDyPYX7bozI6v8IhvCn-",
      "authorship_tag": "ABX9TyPkDGH1oYWiQ74uwMhiskGo"
    },
    "kernelspec": {
      "name": "python3",
      "display_name": "Python 3"
    },
    "language_info": {
      "name": "python"
    }
  },
  "cells": [
    {
      "cell_type": "markdown",
      "metadata": {
        "id": "Be91fWQTo5SG"
      },
      "source": [
        "# Flight Delay Prediction Project\n",
        "\n",
        "## Part 2: Adding Weather data\n",
        "Now that we have explored the entire dataset, we load it to new datafarme and then make a subset of top 50 busiest airports based on arrivals and departures. We later append the weather data for origin and destination airports obtained from [National Centers for Environmental Information](https://www.ncdc.noaa.gov) at the time of Departure (CSR_DEP_TIME) and landing (CSR_ARR_TIME)\n"
      ]
    },
    {
      "cell_type": "code",
      "metadata": {
        "id": "L5THn40IVT1B"
      },
      "source": [
        "import os\n",
        "import pandas as pd\n",
        "import numpy as np\n",
        "import seaborn as sns\n",
        "import time\n",
        "from os import walk\n",
        "os.chdir(\"/content/drive/MyDrive/Projects/Flight_Delay_Predict_Project\") #Default Project directory\n",
        "\n",
        "df = pd.read_csv('CodeFiles/Full_airline_data.csv')"
      ],
      "execution_count": null,
      "outputs": []
    },
    {
      "cell_type": "markdown",
      "metadata": {
        "id": "Hbew7XQ6pq-I"
      },
      "source": [
        "## Make Subset for the top 50 airports and find the amount of data retained\n",
        "We observed that 56.39% of all flights from the 4 months data originate and end in the top 50 airports."
      ]
    },
    {
      "cell_type": "code",
      "metadata": {
        "id": "drIFVy8kZU_1"
      },
      "source": [
        "#Make subset of data containing only flights from top 50 airports\n",
        "top50_airport = pd.read_csv('CodeFiles/top50airports.csv')['IATA'].tolist()\n",
        "df_sub = df[df['ORIGIN'].isin(top50_airport)]\n",
        "df_sub = df_sub[df_sub['DEST'].isin(top50_airport)]"
      ],
      "execution_count": null,
      "outputs": []
    },
    {
      "cell_type": "code",
      "metadata": {
        "colab": {
          "base_uri": "https://localhost:8080/"
        },
        "id": "96yC8uuhZkZG",
        "outputId": "8b33a97b-1c4e-41f4-8bdb-6334e737d541"
      },
      "source": [
        "#Check the % of data retained:\n",
        "data_retained = len(df_sub.index)/len(df.index)\n",
        "print('Data Retained: '+str(round(data_retained*100,2))+' %')"
      ],
      "execution_count": null,
      "outputs": [
        {
          "output_type": "stream",
          "text": [
            "Data Retained: 56.39 %\n"
          ],
          "name": "stdout"
        }
      ]
    },
    {
      "cell_type": "markdown",
      "metadata": {
        "id": "QIosftmmqLsb"
      },
      "source": [
        "## Finally Read, load and combine the weather dataset"
      ]
    },
    {
      "cell_type": "code",
      "metadata": {
        "colab": {
          "base_uri": "https://localhost:8080/"
        },
        "id": "w9gY2AARaZlf",
        "outputId": "e05cb524-7641-4388-c717-62a3fc164499"
      },
      "source": [
        "#Read the weather csv files\n",
        "tic = time.time()\n",
        "#Read all the airline data files\n",
        "df_weather = pd.DataFrame()\n",
        "\n",
        "f = []\n",
        "for (dirpath,dirnames,filenames) in walk('weather/'):\n",
        "    f.extend(filenames)\n",
        "    break\n",
        "\n",
        "for file in f:\n",
        "    df_weather = df_weather.append(pd.read_csv('weather/'+file,low_memory=False))\n",
        "    \n",
        "toc = time.time()\n",
        "print(toc-tic)"
      ],
      "execution_count": null,
      "outputs": [
        {
          "output_type": "stream",
          "text": [
            "7.628483295440674\n"
          ],
          "name": "stdout"
        }
      ]
    },
    {
      "cell_type": "code",
      "metadata": {
        "id": "C3dQyZm6a8T0"
      },
      "source": [
        "#Select the weather parameters which affect flight status: Visibility, Temperature, Wind Speed, Precipitation\n",
        "df_weather = df_weather[['STATION','DATE','HourlyVisibility','HourlyDryBulbTemperature','HourlyWindSpeed','HourlyPrecipitation']].copy()"
      ],
      "execution_count": null,
      "outputs": []
    },
    {
      "cell_type": "code",
      "metadata": {
        "id": "koYj7463BsDH"
      },
      "source": [
        "map_dict = {}\n",
        "with open(\"data/dict.txt\") as f:\n",
        "  for line in f:\n",
        "      (key, val) = line.split()\n",
        "      map_dict[int(key)] = val"
      ],
      "execution_count": null,
      "outputs": []
    },
    {
      "cell_type": "code",
      "metadata": {
        "id": "BgXL8_tIqN0G"
      },
      "source": [
        "#Replacing Long Format Station Names with IATA Airport codes\n",
        "df_weather[\"STATION\"] = df_weather[\"STATION\"].map(map_dict)"
      ],
      "execution_count": null,
      "outputs": []
    },
    {
      "cell_type": "code",
      "metadata": {
        "id": "pz3IqVdVcdvm"
      },
      "source": [
        "def tryconvert(x):\n",
        "        try:\n",
        "            if str(x)[-1].isalpha():\n",
        "                return(float(str(x)[:-1]))\n",
        "            else:\n",
        "                return(float(str(x)))\n",
        "        except:\n",
        "            return(np.nan)\n",
        "\n",
        "#Get the Year, Month, Date and Hour from df_weather\n",
        "#Delete duplicate rows with data from the same station and same date/hour\n",
        "#Delete \"DATE\"\n",
        "\n",
        "df_weather['DATE'] = pd.to_datetime(df_weather['DATE'])\n",
        "\n",
        "df_weather['YEAR']= df_weather['DATE'].apply(lambda time: time.year)\n",
        "df_weather['MONTH']= df_weather['DATE'].apply(lambda time: time.month)\n",
        "df_weather['DAY_OF_MONTH']= df_weather['DATE'].apply(lambda time: time.day)\n",
        "df_weather['HOUR']= df_weather['DATE'].apply(lambda time: time.hour)\n",
        "\n",
        "df_weather.drop_duplicates(['STATION','YEAR','MONTH','DAY_OF_MONTH','HOUR'],inplace=True)\n",
        "df_weather.drop('DATE',axis = 1,inplace=True)\n",
        "\n",
        "df_weather['HourlyVisibility'] = df_weather['HourlyVisibility'].apply(lambda x: tryconvert(x))\n",
        "df_weather['HourlyDryBulbTemperature'] = df_weather['HourlyDryBulbTemperature'].apply(lambda x: tryconvert(x))\n",
        "df_weather['HourlyWindSpeed'] = df_weather['HourlyWindSpeed'].apply(lambda x: tryconvert(x))\n",
        "df_weather['HourlyPrecipitation'] = df_weather['HourlyPrecipitation'].apply(lambda x: tryconvert(x))\n",
        "\n",
        "#Replace NaNs with 0 in Hourly Precip\n",
        "df_weather['HourlyPrecipitation'].fillna(value=0,inplace=True)\n",
        "#Replace NaNs with average value for Hourly Visibility\n",
        "df_weather['HourlyVisibility'].fillna(df_weather['HourlyVisibility'].mean(),inplace=True)\n"
      ],
      "execution_count": null,
      "outputs": []
    },
    {
      "cell_type": "code",
      "metadata": {
        "colab": {
          "base_uri": "https://localhost:8080/",
          "height": 408
        },
        "id": "Y22rUewdc9e6",
        "outputId": "54636a5e-1912-4476-df11-6405c7d6aea2"
      },
      "source": [
        "#Check for any missing data:\n",
        "#Missing data will show up as Yellow lines\n",
        "sns.heatmap(df_weather.isnull(),yticklabels=False,cbar=False,cmap='viridis')"
      ],
      "execution_count": null,
      "outputs": [
        {
          "output_type": "execute_result",
          "data": {
            "text/plain": [
              "<matplotlib.axes._subplots.AxesSubplot at 0x7fe474932950>"
            ]
          },
          "metadata": {
            "tags": []
          },
          "execution_count": 21
        },
        {
          "output_type": "display_data",
          "data": {
            "image/png": "[encoded data removed]",
            "text/plain": [
              "<Figure size 432x288 with 1 Axes>"
            ]
          },
          "metadata": {
            "tags": [],
            "needs_background": "light"
          }
        }
      ]
    },
    {
      "cell_type": "markdown",
      "metadata": {
        "id": "3C_daXtRqYDl"
      },
      "source": [
        "## Calculate Average Weather values for each station"
      ]
    },
    {
      "cell_type": "code",
      "metadata": {
        "id": "wSVhrrc9dGJZ"
      },
      "source": [
        "df_avg_DEP = df_weather.groupby('STATION').mean()\n",
        "df_avg_DEP.drop(['YEAR','MONTH','DAY_OF_MONTH','HOUR'],axis = 1,inplace=True)\n",
        "df_avg_DEP.reset_index(drop=False,inplace=True)\n",
        "df_avg_DEP.rename(index=str, columns={\"STATION\": \"ORIGIN\"},inplace=True)\n",
        "df_avg_DEP.rename(index=str, columns={\"HourlyVisibility\": \"DEP_AVG_HourlyVisibility\"},inplace=True)\n",
        "df_avg_DEP.rename(index=str, columns={\"HourlyDryBulbTemperature\": \"DEP_AVG_HourlyDryBulbTemperature\"},inplace=True)\n",
        "df_avg_DEP.rename(index=str, columns={\"HourlyWindSpeed\": \"DEP_AVG_HourlyWindSpeed\"},inplace=True)\n",
        "df_avg_DEP.rename(index=str, columns={\"HourlyPrecipitation\": \"DEP_AVG_HourlyPrecipitation\"},inplace=True)\n",
        "\n",
        "df_avg_ARR = df_weather.groupby('STATION').mean()\n",
        "df_avg_ARR.drop(['YEAR','MONTH','DAY_OF_MONTH','HOUR'],axis = 1,inplace=True)\n",
        "df_avg_ARR.reset_index(drop=False,inplace=True)\n",
        "df_avg_ARR.rename(index=str, columns={\"STATION\": \"DEST\"},inplace=True)\n",
        "df_avg_ARR.rename(index=str, columns={\"HourlyVisibility\": \"ARR_AVG_HourlyVisibility\"},inplace=True)\n",
        "df_avg_ARR.rename(index=str, columns={\"HourlyDryBulbTemperature\": \"ARR_AVG_HourlyDryBulbTemperature\"},inplace=True)\n",
        "df_avg_ARR.rename(index=str, columns={\"HourlyWindSpeed\": \"ARR_AVG_HourlyWindSpeed\"},inplace=True)\n",
        "df_avg_ARR.rename(index=str, columns={\"HourlyPrecipitation\": \"ARR_AVG_HourlyPrecipitation\"},inplace=True)\n"
      ],
      "execution_count": null,
      "outputs": []
    },
    {
      "cell_type": "code",
      "metadata": {
        "id": "RIShZjXMd31P"
      },
      "source": [
        "#Create two copies of the Weather Dataframe, so that we can two Joins, one for Origin, and one for Destination\n",
        "df_weather_origin = df_weather.copy()\n",
        "df_weather_dest = df_weather.copy()\n",
        "del df_weather\n",
        "\n",
        "#Rename the Columns, add DEP_ to each column name and STATION to ORIGIN\n",
        "df_weather_origin.rename(index=str, columns={\"STATION\": \"ORIGIN\"},inplace=True)\n",
        "df_weather_origin.rename(index=str, columns={\"HourlyVisibility\": \"DEP_HourlyVisibility\"},inplace=True)\n",
        "df_weather_origin.rename(index=str, columns={\"HourlyDryBulbTemperature\": \"DEP_HourlyDryBulbTemperature\"},inplace=True)\n",
        "df_weather_origin.rename(index=str, columns={\"HourlyWindSpeed\": \"DEP_HourlyWindSpeed\"},inplace=True)\n",
        "df_weather_origin.rename(index=str, columns={\"HourlyPrecipitation\": \"DEP_HourlyPrecipitation\"},inplace=True)\n",
        "df_weather_origin.rename(index=str, columns={\"HOUR\": \"DEP_HOUR\"},inplace=True)\n",
        "\n",
        "#Rename the Columns, add ARR_ to each column name and STATION to DEST\n",
        "df_weather_dest.rename(index=str, columns={\"STATION\": \"DEST\"},inplace=True)\n",
        "df_weather_dest.rename(index=str, columns={\"HourlyVisibility\": \"ARR_HourlyVisibility\"},inplace=True)\n",
        "df_weather_dest.rename(index=str, columns={\"HourlyDryBulbTemperature\": \"ARR_HourlyDryBulbTemperature\"},inplace=True)\n",
        "df_weather_dest.rename(index=str, columns={\"HourlyWindSpeed\": \"ARR_HourlyWindSpeed\"},inplace=True)\n",
        "df_weather_dest.rename(index=str, columns={\"HourlyPrecipitation\": \"ARR_HourlyPrecipitation\"},inplace=True)\n",
        "df_weather_dest.rename(index=str, columns={\"HOUR\": \"ARR_HOUR\"},inplace=True)\n"
      ],
      "execution_count": null,
      "outputs": []
    },
    {
      "cell_type": "code",
      "metadata": {
        "id": "I5lCY8WQd-j4"
      },
      "source": [
        "#Merge the Actual Weather during Take-off and Landing for each flight \n",
        "df_sub = pd.merge(df_sub, df_weather_origin, on=['ORIGIN','YEAR','MONTH','DAY_OF_MONTH','DEP_HOUR'], how='left')\n",
        "df_sub = pd.merge(df_sub, df_weather_dest, on=['DEST','YEAR','MONTH','DAY_OF_MONTH','ARR_HOUR'], how='left')"
      ],
      "execution_count": null,
      "outputs": []
    },
    {
      "cell_type": "code",
      "metadata": {
        "id": "pxFM9UIxeSs3"
      },
      "source": [
        "#Merge the Average weather for Origin and Destination Airports for each flight:\n",
        "df_sub = pd.merge(df_sub,df_avg_DEP,how='left',on='ORIGIN')\n",
        "df_sub = pd.merge(df_sub,df_avg_ARR,how='left',on='DEST')"
      ],
      "execution_count": null,
      "outputs": []
    },
    {
      "cell_type": "markdown",
      "metadata": {
        "id": "df0ryWW1qd4_"
      },
      "source": [
        "## Export as .csv file"
      ]
    },
    {
      "cell_type": "code",
      "metadata": {
        "colab": {
          "base_uri": "https://localhost:8080/"
        },
        "id": "5gTU6o1PjadW",
        "outputId": "303dfd0a-99a5-4794-e905-b44b6d43f62a"
      },
      "source": [
        "tic = time.time()\n",
        "df_sub.to_csv('CodeFiles/Airline+Weather_data.csv',index=False)\n",
        "toc = time.time()\n",
        "print(toc-tic)"
      ],
      "execution_count": null,
      "outputs": [
        {
          "output_type": "stream",
          "text": [
            "19.564382314682007\n"
          ],
          "name": "stdout"
        }
      ]
    }
  ]
}